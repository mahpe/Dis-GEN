{
 "cells": [
  {
   "cell_type": "code",
   "execution_count": null,
   "metadata": {},
   "outputs": [],
   "source": [
    "from ase.io import read, write\n",
    "from pymatgen.io.ase import AseAtomsAdaptor\n",
    "from pymatgen.core import Lattice, Structure, Molecule\n",
    "from pymatgen.symmetry.analyzer import SpacegroupAnalyzer\n",
    "from pymatgen.core import Composition, Structure\n",
    "from typing import List, Tuple\n",
    "\n",
    "import re, joblib, json\n",
    "import numpy as np\n",
    "import pandas as pd\n",
    "from keras.utils import to_categorical\n",
    "\n",
    "import pandas as pd\n",
    "from ase.io import read, write\n",
    "from ase import Atoms\n",
    "from ase.db import connect\n",
    "import numpy as np\n",
    "import sys, os\n",
    "from spglib import get_spacegroup, find_primitive, standardize_cell\n",
    "import pymatgen \n",
    "from pymatgen.io.ase import AseAtomsAdaptor\n",
    "import ast\n",
    "import matplotlib.pyplot as plt\n",
    "import seaborn as sns\n",
    "from sklearn.metrics import mean_absolute_error as mae\n",
    "from sklearn.model_selection import train_test_split\n",
    "from sklearn.model_selection import cross_val_score # for cross-validation\n",
    "from datetime import datetime \n",
    "from sklearn.preprocessing import LabelEncoder,OneHotEncoder, StandardScaler\n",
    "from pymatgen.core import Composition, Structure\n",
    "from pymatgen.symmetry.analyzer import SpacegroupAnalyzer\n",
    "\n",
    "\n",
    "import os\n",
    "\n",
    "bridge = AseAtomsAdaptor()\n",
    "\n",
    "import warnings\n",
    "warnings.filterwarnings(\"ignore\")\n"
   ]
  },
  {
   "cell_type": "markdown",
   "metadata": {},
   "source": [
    "### Pretty ploting routine"
   ]
  },
  {
   "cell_type": "code",
   "execution_count": null,
   "metadata": {},
   "outputs": [],
   "source": [
    "def reset_plt(ticksize,fontsize):\n",
    "    #plt.style.use('whitegrid')\n",
    "    plt.rcParams['xtick.labelsize'] = ticksize\n",
    "    plt.rcParams['ytick.labelsize'] = ticksize\n",
    "    plt.rcParams['font.size'] = fontsize\n",
    "    plt.rcParams['mathtext.fontset'] = 'stix'\n",
    "    plt.rcParams['font.family'] = 'STIXGeneral'\n",
    "    plt.rcParams['legend.facecolor'] = 'white'\n",
    "    #plt.rcParams['axes.formatter.limits'] = (-1,3)\n",
    "    #plt.rcParams['axes.linewidth'] = 2.25\n",
    "    \n",
    "\n",
    "def put_ticks(this_fig,this_ax):\n",
    "    this_ax.xaxis.set_tick_params(which = 'major', direction = 'in', width = 2.5, length = 12, zorder = 1, top = True)\n",
    "    this_ax.yaxis.set_tick_params(which = 'major', direction = 'in', width = 2.5, length = 12, zorder = 1, right = True)\n",
    "    this_ax.xaxis.set_tick_params(which = 'minor', direction = 'in', width = 1.5, length = 6, zorder = 1, top = True)\n",
    "    this_ax.yaxis.set_tick_params(which = 'minor', direction = 'in', width = 1.5, length = 6, zorder = 1, right = True)\n",
    "    dx = -3/72\n",
    "    dy = -3/72\n",
    "    y_offset = matplotlib.transforms.ScaledTranslation(0, dy, this_fig.dpi_scale_trans)\n",
    "    x_offset = matplotlib.transforms.ScaledTranslation(dx, 0, this_fig.dpi_scale_trans)\n",
    "\n",
    "    for label in this_ax.xaxis.get_majorticklabels():\n",
    "        label.set_transform(label.get_transform() + y_offset)\n",
    "\n",
    "    for label in this_ax.yaxis.get_majorticklabels():\n",
    "        label.set_transform(label.get_transform() + x_offset)\n"
   ]
  },
  {
   "cell_type": "markdown",
   "metadata": {},
   "source": [
    "### PyTorch\n"
   ]
  },
  {
   "cell_type": "code",
   "execution_count": null,
   "metadata": {},
   "outputs": [
    {
     "name": "stdout",
     "output_type": "stream",
     "text": [
      "X: (9017, 180, 24)\n",
      "Y: (9017, 236)\n",
      "Train: (6491, 180, 24) (6491, 236)\n",
      "Val: (722, 180, 24) (722, 236)\n",
      "Test: (1804, 180, 24) (1804, 236)\n"
     ]
    }
   ],
   "source": [
    "import torch\n",
    "import torch.nn as nn\n",
    "import torch.nn.functional as F\n",
    "from torch.utils.data import DataLoader, Dataset\n",
    "from torch.optim import Adam\n",
    "import math\n",
    "from tqdm import tqdm\n",
    "val_ratio = 0.2\n",
    "test_ratio = 0.1\n",
    "batch_size = 32\n",
    "lr = 0.001\n",
    "epochs = 10\n",
    "\n",
    "X = np.load('X_2D.npy')\n",
    "Y = np.load('Y_2D.npy')\n",
    "print('X:',X.shape)\n",
    "print('Y:',Y.shape)\n",
    "\n",
    "# Setup scaler for Y\n",
    "scaler_Y = StandardScaler()\n",
    "Y_scaled = Y.copy()\n",
    "Y_scaled[:,:6] = scaler_Y.fit_transform(Y[:,:6])\n",
    "# Set X and Y to torch tensors\n",
    "Y = Y_scaled\n",
    "\n",
    "\n",
    "test_size = 0.2\n",
    "val_size = 0.1\n",
    "\n",
    "x_train_val,x_test,y_train_val,y_test=train_test_split( X \\\n",
    "                                               ,Y,test_size=test_size)\n",
    "x_train,x_val,y_train,y_val = train_test_split(x_train_val,y_train_val,test_size=val_size)\n",
    "print('Train:',x_train.shape,y_train.shape)\n",
    "print('Val:',x_val.shape,y_val.shape)\n",
    "print('Test:',x_test.shape,y_test.shape)\n",
    "\n",
    "# 2. Define a custom Dataset class\n",
    "class CrystalDataset(Dataset):\n",
    "    def __init__(self, X, Y):\n",
    "        \"\"\"\n",
    "        Initialize the dataset.\n",
    "        \n",
    "        Args:\n",
    "        X (numpy array): Atomic features with shape (N, feature_dim, wyckoff_dim).\n",
    "        Y (numpy array): Crystal features with shape (N, crystal_dim).\n",
    "        \"\"\"\n",
    "        self.X = torch.tensor(X, dtype=torch.float32)\n",
    "        self.Y = torch.tensor(Y, dtype=torch.float32)\n",
    "\n",
    "    def __len__(self):\n",
    "        \"\"\"\n",
    "        Return the size of the dataset.\n",
    "        \"\"\"\n",
    "        return len(self.X)\n",
    "\n",
    "    def __getitem__(self, idx):\n",
    "        \"\"\"\n",
    "        Retrieve an item at the specified index.\n",
    "        \n",
    "        Args:\n",
    "        idx (int): Index of the item.\n",
    "        \n",
    "        Returns:\n",
    "        Tuple[Tensor, Tensor]: Atomic and crystal features.\n",
    "        \"\"\"\n",
    "        return self.X[idx], self.Y[idx]\n",
    "\n",
    "# 3. Create Dataset and DataLoader for each split\n",
    "train_dataset = CrystalDataset(x_train, y_train)\n",
    "val_dataset = CrystalDataset(x_val, y_val)\n",
    "#test_dataset = CrystalDataset(x_test, y_test)\n",
    "\n",
    "train_loader = DataLoader(train_dataset, batch_size=batch_size, shuffle=True)\n",
    "val_loader = DataLoader(val_dataset, batch_size=batch_size, shuffle=False)\n",
    "#test_loader = DataLoader(test_dataset, batch_size=batch_size, shuffle=False)"
   ]
  },
  {
   "cell_type": "code",
   "execution_count": null,
   "metadata": {},
   "outputs": [
    {
     "name": "stdout",
     "output_type": "stream",
     "text": [
      "Batch 1\n",
      "x_batch shape: torch.Size([32, 180, 24])\n",
      "y_batch shape: torch.Size([32, 236])\n"
     ]
    }
   ],
   "source": [
    "# Example usage: Iterate through the train_loader\n",
    "for batch_idx, (x_batch, y_batch) in enumerate(train_loader):\n",
    "    print(f\"Batch {batch_idx + 1}\")\n",
    "    print(f\"x_batch shape: {x_batch.shape}\")  # Shape: (batch_size, 131, 24)\n",
    "    print(f\"y_batch shape: {y_batch.shape}\")  # Shape: (batch_size, 236)\n",
    "    break"
   ]
  },
  {
   "cell_type": "code",
   "execution_count": null,
   "metadata": {},
   "outputs": [
    {
     "name": "stdout",
     "output_type": "stream",
     "text": [
      "X: torch.Size([32, 180, 24])\n",
      "X2: torch.Size([32, 236])\n",
      "En0: torch.Size([32, 32, 12])\n",
      "En1: torch.Size([32, 16, 6])\n",
      "En2: torch.Size([32, 64, 3])\n",
      "En3: torch.Size([32, 192])\n",
      "En4: torch.Size([32, 1024])\n",
      "---------------------------------\n",
      "Cry0: torch.Size([32, 256])\n",
      "Cry1: torch.Size([32, 128])\n",
      "---------------------------------\n",
      "Latent indput torch.Size([32, 1152])\n",
      "Z mean torch.Size([32, 256]) Z_std torch.Size([32, 256])\n",
      "---------------------------------\n",
      "Z: torch.Size([32, 256])\n",
      "Crystal Features: torch.Size([32, 236])\n",
      "Decoded SG: torch.Size([32, 230])\n",
      "Decoded Lattice: torch.Size([32, 6])\n",
      "---------------------------------\n",
      "Dec0: torch.Size([32, 540])\n",
      "Dec1: torch.Size([32, 180, 3])\n",
      "Dec2: torch.Size([32, 64, 6])\n",
      "Dec3: torch.Size([32, 16, 12])\n",
      "Output torch.Size([32, 180, 24])\n",
      "---------------------------------\n",
      "X: torch.Size([2, 180, 24])\n",
      "X2: torch.Size([2, 236])\n",
      "En0: torch.Size([2, 32, 12])\n",
      "En1: torch.Size([2, 16, 6])\n",
      "En2: torch.Size([2, 64, 3])\n",
      "En3: torch.Size([2, 192])\n",
      "En4: torch.Size([2, 1024])\n",
      "---------------------------------\n",
      "Cry0: torch.Size([2, 256])\n",
      "Cry1: torch.Size([2, 128])\n",
      "---------------------------------\n",
      "Latent indput torch.Size([2, 1152])\n",
      "Z mean torch.Size([2, 256]) Z_std torch.Size([2, 256])\n",
      "---------------------------------\n",
      "Z: torch.Size([2, 256])\n",
      "Crystal Features: torch.Size([2, 236])\n",
      "Decoded SG: torch.Size([2, 230])\n",
      "Decoded Lattice: torch.Size([2, 6])\n",
      "---------------------------------\n",
      "Dec0: torch.Size([2, 540])\n",
      "Dec1: torch.Size([2, 180, 3])\n",
      "Dec2: torch.Size([2, 64, 6])\n",
      "Dec3: torch.Size([2, 16, 12])\n",
      "Output torch.Size([2, 180, 24])\n",
      "---------------------------------\n",
      "----------------------------------------------------------------\n",
      "        Layer (type)               Output Shape         Param #\n",
      "================================================================\n",
      "            Conv1d-1               [-1, 32, 12]          11,552\n",
      "       BatchNorm1d-2               [-1, 32, 12]              64\n",
      "            Conv1d-3                [-1, 16, 6]           1,040\n",
      "       BatchNorm1d-4                [-1, 16, 6]              32\n",
      "            Conv1d-5                [-1, 64, 3]           4,160\n",
      "       BatchNorm1d-6                [-1, 64, 3]             128\n",
      "            Linear-7                 [-1, 1024]         197,632\n",
      "            Linear-8                  [-1, 256]          60,672\n",
      "            Linear-9                  [-1, 128]          32,896\n",
      "           Linear-10                  [-1, 256]         295,168\n",
      "           Linear-11                  [-1, 256]         295,168\n",
      "           Linear-12                  [-1, 236]          60,652\n",
      "           Linear-13                  [-1, 230]          54,510\n",
      "           Linear-14                    [-1, 6]           1,422\n",
      "           Linear-15                  [-1, 540]         138,780\n",
      "  ConvTranspose1d-16                [-1, 64, 6]          46,144\n",
      "      BatchNorm1d-17                [-1, 64, 6]             128\n",
      "  ConvTranspose1d-18               [-1, 16, 12]           2,064\n",
      "      BatchNorm1d-19               [-1, 16, 12]              32\n",
      "  ConvTranspose1d-20              [-1, 180, 24]           5,940\n"
     ]
    },
    {
     "ename": "ValueError",
     "evalue": "setting an array element with a sequence. The requested array has an inhomogeneous shape after 1 dimensions. The detected shape was (2,) + inhomogeneous part.",
     "output_type": "error",
     "traceback": [
      "\u001b[0;31m---------------------------------------------------------------------------\u001b[0m\n",
      "\u001b[0;31mValueError\u001b[0m                                Traceback (most recent call last)\n",
      "Cell \u001b[0;32mIn[61], line 160\u001b[0m\n",
      "\u001b[1;32m    158\u001b[0m \u001b[38;5;66;03m# NOTE: Kernel add an extra dimension for the wyckoff sites \u001b[39;00m\n",
      "\u001b[1;32m    159\u001b[0m \u001b[38;5;28;01mfrom\u001b[39;00m \u001b[38;5;21;01mtorchsummary\u001b[39;00m \u001b[38;5;28;01mimport\u001b[39;00m summary\n",
      "\u001b[0;32m--> 160\u001b[0m \u001b[43msummary\u001b[49m\u001b[43m(\u001b[49m\u001b[43mvae\u001b[49m\u001b[43m,\u001b[49m\u001b[43m \u001b[49m\u001b[43m[\u001b[49m\u001b[43m(\u001b[49m\u001b[43mfeature_dim\u001b[49m\u001b[43m,\u001b[49m\u001b[43mwyckoff_dim\u001b[49m\u001b[43m)\u001b[49m\u001b[43m,\u001b[49m\u001b[43m(\u001b[49m\u001b[43mcrystal_dim\u001b[49m\u001b[43m,\u001b[49m\u001b[43m)\u001b[49m\u001b[43m]\u001b[49m\u001b[43m,\u001b[49m\u001b[43m)\u001b[49m\n",
      "\n",
      "File \u001b[0;32m~/anaconda3/envs/env_sylg/lib/python3.11/site-packages/torchsummary/torchsummary.py:100\u001b[0m, in \u001b[0;36msummary\u001b[0;34m(model, input_size, batch_size, device)\u001b[0m\n",
      "\u001b[1;32m     97\u001b[0m     \u001b[38;5;28mprint\u001b[39m(line_new)\n",
      "\u001b[1;32m     99\u001b[0m \u001b[38;5;66;03m# assume 4 bytes/number (float on cuda).\u001b[39;00m\n",
      "\u001b[0;32m--> 100\u001b[0m total_input_size \u001b[38;5;241m=\u001b[39m \u001b[38;5;28mabs\u001b[39m(\u001b[43mnp\u001b[49m\u001b[38;5;241;43m.\u001b[39;49m\u001b[43mprod\u001b[49m\u001b[43m(\u001b[49m\u001b[43minput_size\u001b[49m\u001b[43m)\u001b[49m \u001b[38;5;241m*\u001b[39m batch_size \u001b[38;5;241m*\u001b[39m \u001b[38;5;241m4.\u001b[39m \u001b[38;5;241m/\u001b[39m (\u001b[38;5;241m1024\u001b[39m \u001b[38;5;241m*\u001b[39m\u001b[38;5;241m*\u001b[39m \u001b[38;5;241m2.\u001b[39m))\n",
      "\u001b[1;32m    101\u001b[0m total_output_size \u001b[38;5;241m=\u001b[39m \u001b[38;5;28mabs\u001b[39m(\u001b[38;5;241m2.\u001b[39m \u001b[38;5;241m*\u001b[39m total_output \u001b[38;5;241m*\u001b[39m \u001b[38;5;241m4.\u001b[39m \u001b[38;5;241m/\u001b[39m (\u001b[38;5;241m1024\u001b[39m \u001b[38;5;241m*\u001b[39m\u001b[38;5;241m*\u001b[39m \u001b[38;5;241m2.\u001b[39m))  \u001b[38;5;66;03m# x2 for gradients\u001b[39;00m\n",
      "\u001b[1;32m    102\u001b[0m total_params_size \u001b[38;5;241m=\u001b[39m \u001b[38;5;28mabs\u001b[39m(total_params\u001b[38;5;241m.\u001b[39mnumpy() \u001b[38;5;241m*\u001b[39m \u001b[38;5;241m4.\u001b[39m \u001b[38;5;241m/\u001b[39m (\u001b[38;5;241m1024\u001b[39m \u001b[38;5;241m*\u001b[39m\u001b[38;5;241m*\u001b[39m \u001b[38;5;241m2.\u001b[39m))\n",
      "\n",
      "File \u001b[0;32m~/anaconda3/envs/env_sylg/lib/python3.11/site-packages/numpy/core/fromnumeric.py:3100\u001b[0m, in \u001b[0;36mprod\u001b[0;34m(a, axis, dtype, out, keepdims, initial, where)\u001b[0m\n",
      "\u001b[1;32m   2979\u001b[0m \u001b[38;5;129m@array_function_dispatch\u001b[39m(_prod_dispatcher)\n",
      "\u001b[1;32m   2980\u001b[0m \u001b[38;5;28;01mdef\u001b[39;00m \u001b[38;5;21mprod\u001b[39m(a, axis\u001b[38;5;241m=\u001b[39m\u001b[38;5;28;01mNone\u001b[39;00m, dtype\u001b[38;5;241m=\u001b[39m\u001b[38;5;28;01mNone\u001b[39;00m, out\u001b[38;5;241m=\u001b[39m\u001b[38;5;28;01mNone\u001b[39;00m, keepdims\u001b[38;5;241m=\u001b[39mnp\u001b[38;5;241m.\u001b[39m_NoValue,\n",
      "\u001b[1;32m   2981\u001b[0m          initial\u001b[38;5;241m=\u001b[39mnp\u001b[38;5;241m.\u001b[39m_NoValue, where\u001b[38;5;241m=\u001b[39mnp\u001b[38;5;241m.\u001b[39m_NoValue):\n",
      "\u001b[1;32m   2982\u001b[0m \u001b[38;5;250m    \u001b[39m\u001b[38;5;124;03m\"\"\"\u001b[39;00m\n",
      "\u001b[1;32m   2983\u001b[0m \u001b[38;5;124;03m    Return the product of array elements over a given axis.\u001b[39;00m\n",
      "\u001b[1;32m   2984\u001b[0m \n",
      "\u001b[0;32m   (...)\u001b[0m\n",
      "\u001b[1;32m   3098\u001b[0m \u001b[38;5;124;03m    10\u001b[39;00m\n",
      "\u001b[1;32m   3099\u001b[0m \u001b[38;5;124;03m    \"\"\"\u001b[39;00m\n",
      "\u001b[0;32m-> 3100\u001b[0m     \u001b[38;5;28;01mreturn\u001b[39;00m \u001b[43m_wrapreduction\u001b[49m\u001b[43m(\u001b[49m\u001b[43ma\u001b[49m\u001b[43m,\u001b[49m\u001b[43m \u001b[49m\u001b[43mnp\u001b[49m\u001b[38;5;241;43m.\u001b[39;49m\u001b[43mmultiply\u001b[49m\u001b[43m,\u001b[49m\u001b[43m \u001b[49m\u001b[38;5;124;43m'\u001b[39;49m\u001b[38;5;124;43mprod\u001b[39;49m\u001b[38;5;124;43m'\u001b[39;49m\u001b[43m,\u001b[49m\u001b[43m \u001b[49m\u001b[43maxis\u001b[49m\u001b[43m,\u001b[49m\u001b[43m \u001b[49m\u001b[43mdtype\u001b[49m\u001b[43m,\u001b[49m\u001b[43m \u001b[49m\u001b[43mout\u001b[49m\u001b[43m,\u001b[49m\n",
      "\u001b[1;32m   3101\u001b[0m \u001b[43m                          \u001b[49m\u001b[43mkeepdims\u001b[49m\u001b[38;5;241;43m=\u001b[39;49m\u001b[43mkeepdims\u001b[49m\u001b[43m,\u001b[49m\u001b[43m \u001b[49m\u001b[43minitial\u001b[49m\u001b[38;5;241;43m=\u001b[39;49m\u001b[43minitial\u001b[49m\u001b[43m,\u001b[49m\u001b[43m \u001b[49m\u001b[43mwhere\u001b[49m\u001b[38;5;241;43m=\u001b[39;49m\u001b[43mwhere\u001b[49m\u001b[43m)\u001b[49m\n",
      "\n",
      "File \u001b[0;32m~/anaconda3/envs/env_sylg/lib/python3.11/site-packages/numpy/core/fromnumeric.py:88\u001b[0m, in \u001b[0;36m_wrapreduction\u001b[0;34m(obj, ufunc, method, axis, dtype, out, **kwargs)\u001b[0m\n",
      "\u001b[1;32m     85\u001b[0m         \u001b[38;5;28;01melse\u001b[39;00m:\n",
      "\u001b[1;32m     86\u001b[0m             \u001b[38;5;28;01mreturn\u001b[39;00m reduction(axis\u001b[38;5;241m=\u001b[39maxis, out\u001b[38;5;241m=\u001b[39mout, \u001b[38;5;241m*\u001b[39m\u001b[38;5;241m*\u001b[39mpasskwargs)\n",
      "\u001b[0;32m---> 88\u001b[0m \u001b[38;5;28;01mreturn\u001b[39;00m \u001b[43mufunc\u001b[49m\u001b[38;5;241;43m.\u001b[39;49m\u001b[43mreduce\u001b[49m\u001b[43m(\u001b[49m\u001b[43mobj\u001b[49m\u001b[43m,\u001b[49m\u001b[43m \u001b[49m\u001b[43maxis\u001b[49m\u001b[43m,\u001b[49m\u001b[43m \u001b[49m\u001b[43mdtype\u001b[49m\u001b[43m,\u001b[49m\u001b[43m \u001b[49m\u001b[43mout\u001b[49m\u001b[43m,\u001b[49m\u001b[43m \u001b[49m\u001b[38;5;241;43m*\u001b[39;49m\u001b[38;5;241;43m*\u001b[39;49m\u001b[43mpasskwargs\u001b[49m\u001b[43m)\u001b[49m\n",
      "\n",
      "\u001b[0;31mValueError\u001b[0m: setting an array element with a sequence. The requested array has an inhomogeneous shape after 1 dimensions. The detected shape was (2,) + inhomogeneous part."
     ]
    }
   ],
   "source": [
    "# Define the VAE model\n",
    "class VAE(nn.Module):\n",
    "    def __init__(self, feature_dim, wyckoff_dim, crystal_dim,space_group_dim=230,lattice_dim=6,\n",
    "                  stride= [2,2,1],kernel=[3,3,4],latent_dim=256, max_filter=64,verbose=False):\n",
    "        super(VAE, self).__init__()\n",
    "        self.feature_dim = feature_dim\n",
    "        self.wyckoff_dim = wyckoff_dim\n",
    "        self.crystal_dim = crystal_dim\n",
    "        self.space_group_dim = space_group_dim\n",
    "        self.stride = stride\n",
    "        self.kernel_size = kernel\n",
    "        self.latent_dim = latent_dim\n",
    "        self.max_filter = max_filter\n",
    "        self.verbose = verbose\n",
    "        self.map_size = 3 \n",
    "\n",
    "        # Encoder: Atomic features\n",
    "        self.encoder_conv1 = nn.Conv1d(feature_dim, max_filter // 2 , kernel_size=self.kernel_size[0], stride=self.stride[0], padding=0)\n",
    "        self.encoder_conv2 = nn.Conv1d(max_filter // 2, max_filter // 4, kernel_size=self.kernel_size[1], stride=self.stride[1], padding=0)\n",
    "        self.encoder_conv3 = nn.Conv1d(max_filter // 4, max_filter, kernel_size=self.kernel_size[2], stride=self.stride[2], padding=0)\n",
    "\n",
    "        self.encoder_bn1 = nn.BatchNorm1d(max_filter // 2)\n",
    "        self.encoder_bn2 = nn.BatchNorm1d(max_filter // 4)\n",
    "        self.encoder_bn3 = nn.BatchNorm1d(max_filter)\n",
    "        \n",
    "        self.encoder_fc = nn.Linear(max_filter * (self.map_size) , 1024) #### TODO: NEED TO CHANGE THIS TO BE DYNAMIC\n",
    "\n",
    "        # Encoder: Crystal features\n",
    "        self.crystal_fc1 = nn.Linear(crystal_dim, 256)\n",
    "        self.crystal_fc2 = nn.Linear(256, 128)\n",
    "\n",
    "        # Latent space\n",
    "        self.z_mean = nn.Linear(1024 + 128, latent_dim)\n",
    "        self.z_log_var = nn.Linear(1024 + 128, latent_dim)\n",
    "\n",
    "        # Decoder: Crystal features\n",
    "        self.decoder_crystal_fc = nn.Linear(latent_dim, crystal_dim)\n",
    "        self.decoder_sg = nn.Linear(crystal_dim, space_group_dim)  # 230 space groups\n",
    "        self.decoder_lattice = nn.Linear(crystal_dim, lattice_dim) # 6 lattice constants and angles\n",
    "\n",
    "        # Decoder: Atomistic features\n",
    "        self.decoder_fc = nn.Linear(latent_dim, feature_dim * self.map_size)\n",
    "        self.decoder_conv1 = nn.ConvTranspose1d(feature_dim, max_filter, kernel_size=self.kernel_size[2], stride=self.stride[2])\n",
    "        self.decoder_conv2 = nn.ConvTranspose1d(max_filter , max_filter // 4 , kernel_size=self.kernel_size[1], stride=self.stride[1],)\n",
    "        self.decoder_conv3 = nn.ConvTranspose1d(max_filter // 4, feature_dim, kernel_size=self.kernel_size[0], stride=self.stride[0],)\n",
    "        self.decoder_bn1 = nn.BatchNorm1d(max_filter)\n",
    "        self.decoder_bn2 = nn.BatchNorm1d(max_filter // 4)\n",
    "\n",
    "        self.decoder_out = nn.Linear(latent_dim, feature_dim * wyckoff_dim)\n",
    "\n",
    "    def encode(self, x, x2):\n",
    "        # Atomic feature encoding\n",
    "        if self.verbose:\n",
    "            print('X:',x.shape)\n",
    "            print('X2:',x2.shape)\n",
    "        #x = x.permute(0, 2, 1)\n",
    "        #print(x.shape,x2.shape)\n",
    "        en0 = F.leaky_relu(self.encoder_bn1(self.encoder_conv1(x)), negative_slope=0.2)        \n",
    "        en1 = F.leaky_relu(self.encoder_bn2(self.encoder_conv2(en0)), negative_slope=0.2)\n",
    "        en2 = F.leaky_relu(self.encoder_bn3(self.encoder_conv3(en1)), negative_slope=0.2)\n",
    "        en3 = en2.view(en2.size(0), -1)  # Flatten\n",
    "        en4 = F.relu(self.encoder_fc(en3))\n",
    "\n",
    "        if self.verbose:\n",
    "            print('En0:',en0.shape)\n",
    "            print('En1:',en1.shape)\n",
    "            print('En2:',en2.shape)\n",
    "            print('En3:',en3.shape)\n",
    "            print('En4:',en4.shape)\n",
    "            print('---------------------------------')\n",
    "\n",
    "        # Crystal feature encoding\n",
    "\n",
    "        cry0 = F.relu(self.crystal_fc1(x2))\n",
    "        cry1 = F.relu(self.crystal_fc2(cry0))\n",
    "\n",
    "        if self.verbose:\n",
    "            print('Cry0:',cry0.shape)\n",
    "            print('Cry1:',cry1.shape)\n",
    "            print('---------------------------------')\n",
    "\n",
    "        # Combine atomic and crystal features\n",
    "        latent = torch.cat((en4, cry1), dim=1)\n",
    "        z_mean = self.z_mean(latent)\n",
    "        z_log_var = self.z_log_var(latent)\n",
    "\n",
    "        if self.verbose:\n",
    "            print('Latent indput',latent.shape)\n",
    "            print('Z mean',z_mean.shape,'Z_std',z_log_var.shape)\n",
    "            print('---------------------------------')\n",
    "\n",
    "        return z_mean, z_log_var\n",
    "\n",
    "    def sampling(self, z_mean, z_log_var):\n",
    "        std = torch.exp(0.5 * z_log_var)\n",
    "        eps = torch.randn_like(std)\n",
    "        return z_mean + eps * std\n",
    "\n",
    "    def decode(self, z):\n",
    "        # Decode crystal features\n",
    "        if self.verbose:\n",
    "            print('Z:',z.shape)\n",
    "\n",
    "        crystal_features = F.relu(self.decoder_crystal_fc(z))\n",
    "        decoded_sg = F.softmax(self.decoder_sg(crystal_features), dim=1)\n",
    "        decoded_lattice = self.decoder_lattice(crystal_features)\n",
    "\n",
    "\n",
    "        if self.verbose:\n",
    "            print('Crystal Features:',crystal_features.shape)\n",
    "            print('Decoded SG:',decoded_sg.shape)\n",
    "            print('Decoded Lattice:',decoded_lattice.shape)\n",
    "            print('---------------------------------')\n",
    "\n",
    "        # Decode atomistic features\n",
    "        dec0 = F.relu(self.decoder_fc(z))\n",
    "        dec1 = dec0.view(dec0.size(0), self.feature_dim, self.map_size)\n",
    "        dec2 = F.relu(self.decoder_bn1(self.decoder_conv1(dec1)))\n",
    "        dec3 = F.relu(self.decoder_bn2(self.decoder_conv2(dec2)))\n",
    "        reconstructed_outputs = self.decoder_conv3(dec3)\n",
    "\n",
    "        if self.verbose:\n",
    "            print('Dec0:',dec0.shape)\n",
    "            print('Dec1:',dec1.shape)\n",
    "            print('Dec2:',dec2.shape)\n",
    "            print('Dec3:',dec3.shape)\n",
    "            print('Output',reconstructed_outputs.shape)\n",
    "            print('---------------------------------')\n",
    "\n",
    "        return reconstructed_outputs, decoded_sg, decoded_lattice\n",
    "\n",
    "    def forward(self, x, x2):\n",
    "        # Encode\n",
    "        z_mean, z_log_var = self.encode(x, x2)\n",
    "        # Latent space sampling\n",
    "        z = self.sampling(z_mean, z_log_var)\n",
    "        # Decode\n",
    "        reconstructed_outputs, decoded_sg, decoded_lattice = self.decode(z)\n",
    "        outputs = {'reconstructed_outputs':reconstructed_outputs,\n",
    "                   'decoded_sg':decoded_sg,\n",
    "                   'decoded_lattice':decoded_lattice,\n",
    "                   'z_mean':z_mean,\n",
    "                   'z_log_var':z_log_var}\n",
    "        return outputs\n",
    "\n",
    "# Initialize the VAE\n",
    "feature_dim = X.shape[1]\n",
    "wyckoff_dim = X.shape[2]\n",
    "crystal_dim = Y.shape[1]\n",
    "kernel = [2,2,4]\n",
    "stride = [2,2,1]\n",
    "\n",
    "vae = VAE(feature_dim, wyckoff_dim, crystal_dim,verbose=True,kernel=kernel,stride=stride)\n",
    "# Test the forward pass\n",
    "x_batch, y_batch = next(iter(train_loader))\n",
    "out = vae(x_batch, y_batch)\n",
    "\n",
    "# NOTE: Kernel add an extra dimension for the wyckoff sites "
   ]
  },
  {
   "cell_type": "code",
   "execution_count": null,
   "metadata": {},
   "outputs": [
    {
     "name": "stdout",
     "output_type": "stream",
     "text": [
      "Reconstructed: torch.Size([32, 180, 24])\n",
      "Original: torch.Size([32, 180, 24])\n",
      "Z mean: torch.Size([32, 256])\n",
      "Z log var: torch.Size([32, 256])\n",
      "Coeffs: {'kl': 6.0, 'element': 500.0, 'wyckoff_sites': 1.0, 'wyckoff_multiplier': 1.0, 'frac_coords': 100.0, 'space_group': 10.0, 'lattice': 6.0}\n",
      "---------------------------------\n",
      "KL Loss i: torch.Size([32, 256])\n",
      "KL Loss: torch.Size([])\n",
      "Element Loss i: torch.Size([32, 24])\n",
      "Element Loss: torch.Size([32, 24])\n",
      "Wyckoff Loss i: torch.Size([32, 24])\n",
      "Wyckoff Loss: torch.Size([])\n",
      "Wyckoff Multiplier Loss i: torch.Size([32, 24])\n",
      "Wyckoff Multiplier Loss: torch.Size([])\n",
      "Frac Coords Loss i: torch.Size([32, 3])\n",
      "Frac Coords Loss: torch.Size([])\n",
      "Space Group Loss i: torch.Size([32])\n",
      "Space Group Loss: torch.Size([])\n",
      "Lattice Loss i: torch.Size([32, 6])\n",
      "Lattice Loss: torch.Size([])\n",
      "Total Loss: torch.Size([])\n",
      "---------------------------------\n",
      "kl: 31.61980438232422\n",
      "element: 29.518564224243164\n",
      "wyckoff_sites: 20.660118103027344\n",
      "wyckoff_multiplier: 24.813756942749023\n",
      "frac_coords: 23.121002197265625\n",
      "space_group: 54.38043975830078\n",
      "lattice: 84.89664459228516\n",
      "total: 269.01031494140625\n"
     ]
    }
   ],
   "source": [
    "\n",
    "# Defien loss function and test it\n",
    "# Define the VAE loss function\n",
    "def vae_loss_function(model_output, x, y, coeffs,verbose=False):\n",
    "    \"\"\"\n",
    "    Compute the VAE loss.\n",
    "\n",
    "    Args:\n",
    "    reconstructed_x (Tensor): Reconstructed output from the decoder.\n",
    "    x (Tensor): Original input.\n",
    "    z_mean (Tensor): Mean of the latent variable.\n",
    "    z_log_var (Tensor): Log variance of the latent variable.\n",
    "    coeffs (dict): Coefficients for different loss components.\n",
    "\n",
    "    Returns:\n",
    "    Tensor: Total loss (scalar).\n",
    "    \"\"\"   \n",
    "    # VAE loss consists of two components: \n",
    "    # 1. KL divergence loss. That is a measure of divergence between two distributions.\n",
    "    # 2. Reconstruction loss for the atoms. That we will seperate into several lossed for each component we want to reconstruct\n",
    "    # 3. Reconstruction loss for the crystal features\n",
    "    # We want to minimize the reconstruction loss and the KL divergence loss.\n",
    "    # Mean over the batch to make the training independent of the batch size.\n",
    "\n",
    "    # Initialize the losses\n",
    "    losses = {}\n",
    "\n",
    "    # Get the model output\n",
    "    z_mean = model_output['z_mean']\n",
    "    z_log_var = model_output['z_log_var']\n",
    "    reconstructed_x = model_output['reconstructed_outputs']\n",
    "    decoded_sg = model_output['decoded_sg']\n",
    "    decoded_lattice = model_output['decoded_lattice']\n",
    "\n",
    "    if verbose:\n",
    "        print('Reconstructed:',reconstructed_x.shape)\n",
    "        print('Original:',x.shape)\n",
    "        print('Z mean:',z_mean.shape)\n",
    "        print('Z log var:',z_log_var.shape)\n",
    "        print('Coeffs:',coeffs)\n",
    "        print('---------------------------------')\n",
    "    \n",
    "    #### KL Divergence loss ####\n",
    "    kl_loss_i = -0.5 * (1 + z_log_var - torch.square(z_mean) - torch.exp(z_log_var))\n",
    "    kl_loss = torch.mean(torch.sum(kl_loss_i, dim=1)) # sum over the latent dimensions and mean over the batch\n",
    "    losses['kl'] = kl_loss\n",
    "    if verbose:\n",
    "        print('KL Loss i:',kl_loss_i.shape)\n",
    "        print('KL Loss:',kl_loss.shape)\n",
    "\n",
    "    #### Reconstruction loss atomistic features ####\n",
    "    # Reconstruction loss of the elemental features\n",
    "    # The element embedding should always sum to 1\n",
    "    # Softmax on all wyckoff sites\n",
    "    element_loss_i = torch.mean(torch.square(F.softmax(reconstructed_x[:,:101,:],dim=1) - x[:,:101,:]),dim=1) # MSE between the softmax distribution and the true distribution\n",
    "    element_loss = torch.mean(torch.sum(element_loss_i,dim=1)) # sum over the wyckoff_sites and mean over the batch\n",
    "    losses['element'] = element_loss\n",
    "    if verbose:\n",
    "        print('Element Loss i:',element_loss_i.shape)\n",
    "        print('Element Loss:',element_loss_i.shape)\n",
    "\n",
    "    # Wyckoff sites reconstruction loss. Cross entropy loss\n",
    "    wyckoff_site_loss_i = F.cross_entropy(reconstructed_x[:,-26:,:], x[:,-26:,:],reduction='none')\n",
    "    wyckoff_site_loss = torch.mean(torch.sum(wyckoff_site_loss_i,dim=1)) # sum over the wyckoff sites and mean over the batch\n",
    "    losses['wyckoff_sites'] = wyckoff_site_loss\n",
    "    if verbose:\n",
    "        print('Wyckoff Loss i:',wyckoff_site_loss_i.shape)\n",
    "        print('Wyckoff Loss:',wyckoff_site_loss.shape)\n",
    "\n",
    "    # Wyckoof multiplier loss. Cross entropy loss\n",
    "    wyckoff_multiplier_loss_i = F.cross_entropy(reconstructed_x[:,101:-29,:], x[:,101:-29,:],reduction='none')\n",
    "    wyckoff_multiplier_loss = torch.mean(torch.sum(wyckoff_multiplier_loss_i,dim=1)) # sum over the wyckoff sites and mean over the batch\n",
    "    losses['wyckoff_multiplier'] = wyckoff_multiplier_loss\n",
    "    if verbose:\n",
    "        print('Wyckoff Multiplier Loss i:',wyckoff_multiplier_loss_i.shape)\n",
    "        print('Wyckoff Multiplier Loss:',wyckoff_multiplier_loss.shape)\n",
    "    \n",
    "    # Fractional coordinates reconstruction loss. Mean squared error loss\n",
    "    frac_coords_loss_i = torch.mean(torch.square(reconstructed_x[:,-29:-26,:] - x[:,-29:-26,:]),dim=2) # mse over the wyckoff sites \n",
    "    frac_coords_loss_j = torch.sum(frac_coords_loss_i,dim=1) # sum over the fractional coordinates\n",
    "    frac_coords_loss = torch.mean(frac_coords_loss_j) # mean over the batch\n",
    "    losses['frac_coords'] = frac_coords_loss\n",
    "    if verbose:\n",
    "        print('Frac Coords Loss i:',frac_coords_loss_i.shape)\n",
    "        print('Frac Coords Loss:',frac_coords_loss.shape)\n",
    "\n",
    "    #### Reconstruction loss crystal features ####\n",
    "    # Space group loss. Cross entropy loss\n",
    "    space_group_loss_i = F.cross_entropy(decoded_sg, y[:,6:],reduce=False)\n",
    "    space_group_loss = torch.mean(space_group_loss_i) # mean over the batch\n",
    "    losses['space_group'] = space_group_loss\n",
    "    if verbose:\n",
    "        print('Space Group Loss i:',space_group_loss_i.shape)\n",
    "        print('Space Group Loss:',space_group_loss.shape)\n",
    "\n",
    "    # Lattice loss. Mean squared error loss\n",
    "    lattice_loss_i = F.mse_loss(decoded_lattice, y[:,:6],reduce=False)\n",
    "    lattice_loss = torch.mean(torch.sum(lattice_loss_i,dim=1)) # sum over the lattice constants and mean over the batch\n",
    "    losses['lattice'] = lattice_loss\n",
    "    if verbose:\n",
    "        print('Lattice Loss i:',lattice_loss_i.shape)\n",
    "        print('Lattice Loss:',lattice_loss.shape)\n",
    "\n",
    "    # Weighted sum of losses\n",
    "    for key in losses:\n",
    "        losses[key] *= coeffs[key]\n",
    "\n",
    "    # Total loss\n",
    "    total_loss = torch.sum(torch.stack(list(losses.values()))) # Take all the losses and make them to a list of torch objects then stack them to make them a tensor and sum them\n",
    "    losses['total'] = total_loss\n",
    "    if verbose:\n",
    "        print('Total Loss:',total_loss.shape)\n",
    "        print('---------------------------------')\n",
    "\n",
    "    return losses\n",
    "coeffs = {'kl': 6.0,\n",
    "          'element':500.0,\n",
    "          'wyckoff_sites': 1.0,\n",
    "        'wyckoff_multiplier': 1.0,\n",
    "          'frac_coords': 100.0,\n",
    "          'space_group':10.0,\n",
    "          'lattice':6.0}\n",
    "# Forward pass\n",
    "vae = VAE(feature_dim, wyckoff_dim, crystal_dim,verbose=False,kernel=kernel,stride=stride)\n",
    "out = vae(x_batch, y_batch)\n",
    "\n",
    "# Compute loss\n",
    "loss = vae_loss_function(out, x_batch, y_batch, coeffs,verbose=True);\n",
    "for key in loss:\n",
    "    print(f\"{key}: {loss[key]}\")"
   ]
  },
  {
   "cell_type": "code",
   "execution_count": null,
   "metadata": {},
   "outputs": [
    {
     "name": "stderr",
     "output_type": "stream",
     "text": [
      "  0%|          | 0/150 [00:00<?, ?it/s]"
     ]
    },
    {
     "name": "stderr",
     "output_type": "stream",
     "text": [
      "  1%|          | 1/150 [00:03<09:09,  3.68s/it]"
     ]
    },
    {
     "name": "stdout",
     "output_type": "stream",
     "text": [
      "Epoch 1/150: Train Loss: 150.64590352626857\n",
      "---------------------------------\n",
      "Validation Loss: 139.7693153049635\n",
      "kl: 8.45701789855957\n",
      "element: 21.778644561767578\n",
      "wyckoff_sites: 13.402311325073242\n",
      "wyckoff_multiplier: 9.665998458862305\n",
      "frac_coords: 10.25143814086914\n",
      "space_group: 51.262664794921875\n",
      "lattice: 24.82111930847168\n",
      "total: 139.6392059326172\n",
      "---------------------------------\n"
     ]
    },
    {
     "name": "stderr",
     "output_type": "stream",
     "text": [
      "  1%|▏         | 2/150 [00:07<09:02,  3.67s/it]"
     ]
    },
    {
     "name": "stdout",
     "output_type": "stream",
     "text": [
      "Epoch 2/150: Train Loss: 137.1371813243246\n",
      "---------------------------------\n",
      "Validation Loss: 134.89946315599525\n",
      "kl: 13.807317733764648\n",
      "element: 19.998842239379883\n",
      "wyckoff_sites: 12.862902641296387\n",
      "wyckoff_multiplier: 8.57602310180664\n",
      "frac_coords: 9.390286445617676\n",
      "space_group: 50.93509292602539\n",
      "lattice: 17.73720359802246\n",
      "total: 133.3076629638672\n",
      "---------------------------------\n"
     ]
    },
    {
     "name": "stderr",
     "output_type": "stream",
     "text": [
      "  2%|▏         | 3/150 [00:11<08:58,  3.66s/it]"
     ]
    },
    {
     "name": "stdout",
     "output_type": "stream",
     "text": [
      "Epoch 3/150: Train Loss: 133.76018148337678\n",
      "---------------------------------\n",
      "Validation Loss: 133.03528495456862\n",
      "kl: 11.976181030273438\n",
      "element: 20.164138793945312\n",
      "wyckoff_sites: 12.787985801696777\n",
      "wyckoff_multiplier: 8.20113754272461\n",
      "frac_coords: 10.18490219116211\n",
      "space_group: 51.726322174072266\n",
      "lattice: 21.7808895111084\n",
      "total: 136.82156372070312\n",
      "---------------------------------\n"
     ]
    },
    {
     "name": "stderr",
     "output_type": "stream",
     "text": [
      "  3%|▎         | 4/150 [00:14<08:55,  3.67s/it]"
     ]
    },
    {
     "name": "stdout",
     "output_type": "stream",
     "text": [
      "Epoch 4/150: Train Loss: 132.02593911457532\n",
      "---------------------------------\n",
      "Validation Loss: 131.40189859141475\n",
      "kl: 13.53387451171875\n",
      "element: 21.312889099121094\n",
      "wyckoff_sites: 12.740053176879883\n",
      "wyckoff_multiplier: 8.554450035095215\n",
      "frac_coords: 10.541976928710938\n",
      "space_group: 50.672523498535156\n",
      "lattice: 19.974077224731445\n",
      "total: 137.329833984375\n",
      "---------------------------------\n"
     ]
    },
    {
     "name": "stderr",
     "output_type": "stream",
     "text": [
      "  3%|▎         | 5/150 [00:18<08:51,  3.67s/it]"
     ]
    },
    {
     "name": "stdout",
     "output_type": "stream",
     "text": [
      "Epoch 5/150: Train Loss: 130.58992117144203\n",
      "---------------------------------\n",
      "Validation Loss: 130.2359449967094\n",
      "kl: 16.053997039794922\n",
      "element: 21.49258041381836\n",
      "wyckoff_sites: 12.220718383789062\n",
      "wyckoff_multiplier: 8.0132474899292\n",
      "frac_coords: 10.383893966674805\n",
      "space_group: 49.799686431884766\n",
      "lattice: 16.43250846862793\n",
      "total: 134.39663696289062\n",
      "---------------------------------\n"
     ]
    },
    {
     "name": "stderr",
     "output_type": "stream",
     "text": [
      "  4%|▍         | 6/150 [00:22<08:48,  3.67s/it]"
     ]
    },
    {
     "name": "stdout",
     "output_type": "stream",
     "text": [
      "Epoch 6/150: Train Loss: 129.48337611306476\n",
      "---------------------------------\n",
      "Validation Loss: 129.22363214907438\n",
      "kl: 14.885263442993164\n",
      "element: 18.582996368408203\n",
      "wyckoff_sites: 12.55389404296875\n",
      "wyckoff_multiplier: 7.519957542419434\n",
      "frac_coords: 9.460349082946777\n",
      "space_group: 50.66844177246094\n",
      "lattice: 13.547126770019531\n",
      "total: 127.21803283691406\n",
      "---------------------------------\n"
     ]
    },
    {
     "name": "stderr",
     "output_type": "stream",
     "text": [
      "  5%|▍         | 7/150 [00:25<08:45,  3.68s/it]"
     ]
    },
    {
     "name": "stdout",
     "output_type": "stream",
     "text": [
      "Epoch 7/150: Train Loss: 127.99227142333984\n",
      "---------------------------------\n",
      "Validation Loss: 128.75469506305197\n",
      "kl: 17.93900489807129\n",
      "element: 20.227209091186523\n",
      "wyckoff_sites: 12.555312156677246\n",
      "wyckoff_multiplier: 7.3608880043029785\n",
      "frac_coords: 10.109570503234863\n",
      "space_group: 50.058101654052734\n",
      "lattice: 13.703176498413086\n",
      "total: 131.95326232910156\n",
      "---------------------------------\n"
     ]
    },
    {
     "name": "stderr",
     "output_type": "stream",
     "text": [
      "  5%|▌         | 8/150 [00:29<08:42,  3.68s/it]"
     ]
    },
    {
     "name": "stdout",
     "output_type": "stream",
     "text": [
      "Epoch 8/150: Train Loss: 127.14375038334889\n",
      "---------------------------------\n",
      "Validation Loss: 127.4433703215226\n",
      "kl: 13.534192085266113\n",
      "element: 20.674421310424805\n",
      "wyckoff_sites: 12.41353988647461\n",
      "wyckoff_multiplier: 7.643223285675049\n",
      "frac_coords: 9.95805549621582\n",
      "space_group: 49.999351501464844\n",
      "lattice: 14.870611190795898\n",
      "total: 129.09339904785156\n",
      "---------------------------------\n"
     ]
    },
    {
     "name": "stderr",
     "output_type": "stream",
     "text": [
      "  6%|▌         | 9/150 [00:33<08:38,  3.68s/it]"
     ]
    },
    {
     "name": "stdout",
     "output_type": "stream",
     "text": [
      "Epoch 9/150: Train Loss: 126.6110626371036\n",
      "---------------------------------\n",
      "Validation Loss: 125.90627985415252\n",
      "kl: 16.32046127319336\n",
      "element: 18.601890563964844\n",
      "wyckoff_sites: 12.093385696411133\n",
      "wyckoff_multiplier: 7.450826168060303\n",
      "frac_coords: 9.401973724365234\n",
      "space_group: 49.918785095214844\n",
      "lattice: 11.43780517578125\n",
      "total: 125.22512817382812\n",
      "---------------------------------\n"
     ]
    },
    {
     "name": "stderr",
     "output_type": "stream",
     "text": [
      "  7%|▋         | 10/150 [00:36<08:35,  3.68s/it]"
     ]
    },
    {
     "name": "stdout",
     "output_type": "stream",
     "text": [
      "Epoch 10/150: Train Loss: 126.46070489742486\n",
      "---------------------------------\n",
      "Validation Loss: 126.36432879904042\n",
      "kl: 15.36826229095459\n",
      "element: 20.07386589050293\n",
      "wyckoff_sites: 12.394783973693848\n",
      "wyckoff_multiplier: 7.576657772064209\n",
      "frac_coords: 9.7517671585083\n",
      "space_group: 50.6462287902832\n",
      "lattice: 11.214642524719238\n",
      "total: 127.02621459960938\n",
      "---------------------------------\n"
     ]
    },
    {
     "name": "stderr",
     "output_type": "stream",
     "text": [
      "  7%|▋         | 11/150 [00:40<08:31,  3.68s/it]"
     ]
    },
    {
     "name": "stdout",
     "output_type": "stream",
     "text": [
      "Epoch 11/150: Train Loss: 126.47961624972339\n",
      "---------------------------------\n",
      "Validation Loss: 127.03568798562755\n",
      "kl: 16.055145263671875\n",
      "element: 20.80082130432129\n",
      "wyckoff_sites: 12.07260799407959\n",
      "wyckoff_multiplier: 6.886592388153076\n",
      "frac_coords: 10.119609832763672\n",
      "space_group: 49.80803680419922\n",
      "lattice: 11.3048095703125\n",
      "total: 127.04761505126953\n",
      "---------------------------------\n"
     ]
    },
    {
     "name": "stderr",
     "output_type": "stream",
     "text": [
      "  8%|▊         | 12/150 [00:44<08:28,  3.69s/it]"
     ]
    },
    {
     "name": "stdout",
     "output_type": "stream",
     "text": [
      "Epoch 12/150: Train Loss: 126.41216364517588\n",
      "---------------------------------\n",
      "Validation Loss: 126.6257035628609\n",
      "kl: 16.084896087646484\n",
      "element: 20.500411987304688\n",
      "wyckoff_sites: 12.726078033447266\n",
      "wyckoff_multiplier: 8.55807113647461\n",
      "frac_coords: 9.813627243041992\n",
      "space_group: 49.71392822265625\n",
      "lattice: 18.176515579223633\n",
      "total: 135.5735321044922\n",
      "---------------------------------\n"
     ]
    },
    {
     "name": "stderr",
     "output_type": "stream",
     "text": [
      "  9%|▊         | 13/150 [00:47<08:24,  3.69s/it]"
     ]
    },
    {
     "name": "stdout",
     "output_type": "stream",
     "text": [
      "Epoch 13/150: Train Loss: 125.71928567369584\n",
      "---------------------------------\n",
      "Validation Loss: 125.61026067319123\n",
      "kl: 14.945686340332031\n",
      "element: 18.977638244628906\n",
      "wyckoff_sites: 12.3064603805542\n",
      "wyckoff_multiplier: 7.524367332458496\n",
      "frac_coords: 9.22351360321045\n",
      "space_group: 50.73160171508789\n",
      "lattice: 18.26059913635254\n",
      "total: 131.96986389160156\n",
      "---------------------------------\n"
     ]
    },
    {
     "name": "stderr",
     "output_type": "stream",
     "text": [
      "  9%|▉         | 14/150 [00:51<08:21,  3.68s/it]"
     ]
    },
    {
     "name": "stdout",
     "output_type": "stream",
     "text": [
      "Epoch 14/150: Train Loss: 125.07246635700095\n",
      "---------------------------------\n",
      "Validation Loss: 126.70274518883747\n",
      "kl: 14.160867691040039\n",
      "element: 18.945728302001953\n",
      "wyckoff_sites: 11.906208038330078\n",
      "wyckoff_multiplier: 6.512103080749512\n",
      "frac_coords: 9.637568473815918\n",
      "space_group: 49.44395446777344\n",
      "lattice: 10.813043594360352\n",
      "total: 121.41946411132812\n",
      "---------------------------------\n"
     ]
    },
    {
     "name": "stderr",
     "output_type": "stream",
     "text": [
      " 10%|█         | 15/150 [00:55<08:17,  3.69s/it]"
     ]
    },
    {
     "name": "stdout",
     "output_type": "stream",
     "text": [
      "Epoch 15/150: Train Loss: 124.90424354440474\n",
      "---------------------------------\n",
      "Validation Loss: 126.01569101084833\n",
      "kl: 16.675792694091797\n",
      "element: 20.855239868164062\n",
      "wyckoff_sites: 12.584893226623535\n",
      "wyckoff_multiplier: 7.576992511749268\n",
      "frac_coords: 10.311744689941406\n",
      "space_group: 50.18934631347656\n",
      "lattice: 19.583831787109375\n",
      "total: 137.77784729003906\n",
      "---------------------------------\n"
     ]
    },
    {
     "name": "stderr",
     "output_type": "stream",
     "text": [
      " 11%|█         | 16/150 [00:58<08:14,  3.69s/it]"
     ]
    },
    {
     "name": "stdout",
     "output_type": "stream",
     "text": [
      "Epoch 16/150: Train Loss: 125.39647956434729\n",
      "---------------------------------\n",
      "Validation Loss: 125.13930776844855\n",
      "kl: 16.692014694213867\n",
      "element: 19.608474731445312\n",
      "wyckoff_sites: 12.49040412902832\n",
      "wyckoff_multiplier: 7.814752578735352\n",
      "frac_coords: 9.792824745178223\n",
      "space_group: 49.75799560546875\n",
      "lattice: 13.641786575317383\n",
      "total: 129.79824829101562\n",
      "---------------------------------\n"
     ]
    },
    {
     "name": "stderr",
     "output_type": "stream",
     "text": [
      " 11%|█▏        | 17/150 [01:02<08:10,  3.69s/it]"
     ]
    },
    {
     "name": "stdout",
     "output_type": "stream",
     "text": [
      "Epoch 17/150: Train Loss: 124.60866805955106\n",
      "---------------------------------\n",
      "Validation Loss: 125.70579827350119\n",
      "kl: 15.220874786376953\n",
      "element: 20.699872970581055\n",
      "wyckoff_sites: 12.34870719909668\n",
      "wyckoff_multiplier: 7.140829086303711\n",
      "frac_coords: 10.104155540466309\n",
      "space_group: 49.55051040649414\n",
      "lattice: 10.820487976074219\n",
      "total: 125.88544464111328\n",
      "---------------------------------\n"
     ]
    },
    {
     "name": "stderr",
     "output_type": "stream",
     "text": [
      " 12%|█▏        | 18/150 [01:06<08:07,  3.69s/it]"
     ]
    },
    {
     "name": "stdout",
     "output_type": "stream",
     "text": [
      "Epoch 18/150: Train Loss: 124.37923814745372\n",
      "---------------------------------\n",
      "Validation Loss: 125.30174354884936\n",
      "kl: 17.65629005432129\n",
      "element: 22.645797729492188\n",
      "wyckoff_sites: 12.725967407226562\n",
      "wyckoff_multiplier: 6.5372819900512695\n",
      "frac_coords: 11.472228050231934\n",
      "space_group: 50.076011657714844\n",
      "lattice: 13.288511276245117\n",
      "total: 134.40208435058594\n",
      "---------------------------------\n"
     ]
    },
    {
     "name": "stderr",
     "output_type": "stream",
     "text": [
      " 13%|█▎        | 19/150 [01:09<08:03,  3.69s/it]"
     ]
    },
    {
     "name": "stdout",
     "output_type": "stream",
     "text": [
      "Epoch 19/150: Train Loss: 124.77144081604304\n",
      "---------------------------------\n",
      "Validation Loss: 124.65408424709155\n",
      "kl: 15.669745445251465\n",
      "element: 18.740636825561523\n",
      "wyckoff_sites: 12.586356163024902\n",
      "wyckoff_multiplier: 7.0061516761779785\n",
      "frac_coords: 8.935126304626465\n",
      "space_group: 50.0758056640625\n",
      "lattice: 15.97488021850586\n",
      "total: 128.98870849609375\n",
      "---------------------------------\n"
     ]
    },
    {
     "name": "stderr",
     "output_type": "stream",
     "text": [
      " 13%|█▎        | 20/150 [01:13<08:00,  3.69s/it]"
     ]
    },
    {
     "name": "stdout",
     "output_type": "stream",
     "text": [
      "Epoch 20/150: Train Loss: 124.67692712492544\n",
      "---------------------------------\n",
      "Validation Loss: 124.64669269064198\n",
      "kl: 18.096858978271484\n",
      "element: 19.171092987060547\n",
      "wyckoff_sites: 12.115840911865234\n",
      "wyckoff_multiplier: 7.867411136627197\n",
      "frac_coords: 9.313061714172363\n",
      "space_group: 49.7872314453125\n",
      "lattice: 9.8327054977417\n",
      "total: 126.18419647216797\n",
      "---------------------------------\n"
     ]
    },
    {
     "name": "stderr",
     "output_type": "stream",
     "text": [
      " 14%|█▍        | 21/150 [01:17<07:56,  3.69s/it]"
     ]
    },
    {
     "name": "stdout",
     "output_type": "stream",
     "text": [
      "Epoch 21/150: Train Loss: 124.00879590264682\n",
      "---------------------------------\n",
      "Validation Loss: 125.0935748556386\n",
      "kl: 14.692983627319336\n",
      "element: 20.5347957611084\n",
      "wyckoff_sites: 12.406594276428223\n",
      "wyckoff_multiplier: 8.29275131225586\n",
      "frac_coords: 10.29782772064209\n",
      "space_group: 50.38525390625\n",
      "lattice: 15.83289909362793\n",
      "total: 132.443115234375\n",
      "---------------------------------\n"
     ]
    },
    {
     "name": "stderr",
     "output_type": "stream",
     "text": [
      " 15%|█▍        | 22/150 [01:21<07:52,  3.69s/it]"
     ]
    },
    {
     "name": "stdout",
     "output_type": "stream",
     "text": [
      "Epoch 22/150: Train Loss: 124.13183601266645\n",
      "---------------------------------\n",
      "Validation Loss: 125.1905812802522\n",
      "kl: 16.01519775390625\n",
      "element: 20.733959197998047\n",
      "wyckoff_sites: 12.68586540222168\n",
      "wyckoff_multiplier: 6.981961250305176\n",
      "frac_coords: 9.940080642700195\n",
      "space_group: 49.4340934753418\n",
      "lattice: 9.478568077087402\n",
      "total: 125.26972961425781\n",
      "---------------------------------\n"
     ]
    },
    {
     "name": "stderr",
     "output_type": "stream",
     "text": [
      " 15%|█▌        | 23/150 [01:24<07:49,  3.69s/it]"
     ]
    },
    {
     "name": "stdout",
     "output_type": "stream",
     "text": [
      "Epoch 23/150: Train Loss: 123.92785971505302\n",
      "---------------------------------\n",
      "Validation Loss: 124.33676014775816\n",
      "kl: 15.754434585571289\n",
      "element: 19.622713088989258\n",
      "wyckoff_sites: 13.060373306274414\n",
      "wyckoff_multiplier: 7.02792501449585\n",
      "frac_coords: 9.382930755615234\n",
      "space_group: 49.900733947753906\n",
      "lattice: 11.835538864135742\n",
      "total: 126.58464813232422\n",
      "---------------------------------\n"
     ]
    },
    {
     "name": "stderr",
     "output_type": "stream",
     "text": [
      " 16%|█▌        | 24/150 [01:28<07:45,  3.70s/it]"
     ]
    },
    {
     "name": "stdout",
     "output_type": "stream",
     "text": [
      "Epoch 24/150: Train Loss: 123.74376129751722\n",
      "---------------------------------\n",
      "Validation Loss: 124.7526391070822\n",
      "kl: 15.57560920715332\n",
      "element: 19.951622009277344\n",
      "wyckoff_sites: 13.07796859741211\n",
      "wyckoff_multiplier: 7.573032855987549\n",
      "frac_coords: 9.278826713562012\n",
      "space_group: 49.472206115722656\n",
      "lattice: 13.23390007019043\n",
      "total: 128.1631622314453\n",
      "---------------------------------\n"
     ]
    },
    {
     "name": "stderr",
     "output_type": "stream",
     "text": [
      " 17%|█▋        | 25/150 [01:32<07:42,  3.70s/it]"
     ]
    },
    {
     "name": "stdout",
     "output_type": "stream",
     "text": [
      "Epoch 25/150: Train Loss: 123.73116291215267\n",
      "---------------------------------\n",
      "Validation Loss: 126.58700627865998\n",
      "kl: 15.997711181640625\n",
      "element: 18.28957748413086\n",
      "wyckoff_sites: 12.295355796813965\n",
      "wyckoff_multiplier: 7.973917484283447\n",
      "frac_coords: 9.047306060791016\n",
      "space_group: 49.92609405517578\n",
      "lattice: 9.845536231994629\n",
      "total: 123.37550354003906\n",
      "---------------------------------\n"
     ]
    },
    {
     "name": "stderr",
     "output_type": "stream",
     "text": [
      " 17%|█▋        | 26/150 [01:35<07:38,  3.70s/it]"
     ]
    },
    {
     "name": "stdout",
     "output_type": "stream",
     "text": [
      "Epoch 26/150: Train Loss: 123.57472251553841\n",
      "---------------------------------\n",
      "Validation Loss: 124.288143987241\n",
      "kl: 15.029783248901367\n",
      "element: 16.70737075805664\n",
      "wyckoff_sites: 12.533194541931152\n",
      "wyckoff_multiplier: 6.852950572967529\n",
      "frac_coords: 8.537402153015137\n",
      "space_group: 50.489891052246094\n",
      "lattice: 11.445089340209961\n",
      "total: 121.5956802368164\n",
      "---------------------------------\n"
     ]
    },
    {
     "name": "stderr",
     "output_type": "stream",
     "text": [
      " 18%|█▊        | 27/150 [01:39<07:33,  3.69s/it]"
     ]
    },
    {
     "name": "stdout",
     "output_type": "stream",
     "text": [
      "Epoch 27/150: Train Loss: 123.05272422752944\n",
      "---------------------------------\n",
      "Validation Loss: 123.62115976084833\n",
      "kl: 16.912076950073242\n",
      "element: 19.755767822265625\n",
      "wyckoff_sites: 13.175780296325684\n",
      "wyckoff_multiplier: 7.925864219665527\n",
      "frac_coords: 9.906608581542969\n",
      "space_group: 50.115413665771484\n",
      "lattice: 10.590010643005371\n",
      "total: 128.3815155029297\n",
      "---------------------------------\n"
     ]
    },
    {
     "name": "stderr",
     "output_type": "stream",
     "text": [
      " 19%|█▊        | 28/150 [01:43<07:29,  3.68s/it]"
     ]
    },
    {
     "name": "stdout",
     "output_type": "stream",
     "text": [
      "Epoch 28/150: Train Loss: 124.16553038799117\n",
      "---------------------------------\n",
      "Validation Loss: 124.63301219110903\n",
      "kl: 16.89832878112793\n",
      "element: 18.853544235229492\n",
      "wyckoff_sites: 12.94780445098877\n",
      "wyckoff_multiplier: 7.868044376373291\n",
      "frac_coords: 9.433733940124512\n",
      "space_group: 51.571102142333984\n",
      "lattice: 9.956842422485352\n",
      "total: 127.52940368652344\n",
      "---------------------------------\n"
     ]
    },
    {
     "name": "stderr",
     "output_type": "stream",
     "text": [
      " 19%|█▉        | 29/150 [01:46<07:24,  3.68s/it]"
     ]
    },
    {
     "name": "stdout",
     "output_type": "stream",
     "text": [
      "Epoch 29/150: Train Loss: 123.38902121106979\n",
      "---------------------------------\n",
      "Validation Loss: 123.02566030751105\n",
      "kl: 15.589387893676758\n",
      "element: 18.374292373657227\n",
      "wyckoff_sites: 12.319902420043945\n",
      "wyckoff_multiplier: 7.926466941833496\n",
      "frac_coords: 8.915324211120605\n",
      "space_group: 49.86492156982422\n",
      "lattice: 12.206903457641602\n",
      "total: 125.19718933105469\n",
      "---------------------------------\n"
     ]
    },
    {
     "name": "stderr",
     "output_type": "stream",
     "text": [
      " 20%|██        | 30/150 [01:50<07:21,  3.68s/it]"
     ]
    },
    {
     "name": "stdout",
     "output_type": "stream",
     "text": [
      "Epoch 30/150: Train Loss: 123.09963823891626\n",
      "---------------------------------\n",
      "Validation Loss: 125.2074906722359\n",
      "kl: 17.238872528076172\n",
      "element: 19.833513259887695\n",
      "wyckoff_sites: 12.141365051269531\n",
      "wyckoff_multiplier: 7.69494104385376\n",
      "frac_coords: 9.284106254577637\n",
      "space_group: 48.97294998168945\n",
      "lattice: 13.420111656188965\n",
      "total: 128.5858612060547\n",
      "---------------------------------\n"
     ]
    },
    {
     "name": "stderr",
     "output_type": "stream",
     "text": [
      " 21%|██        | 31/150 [01:54<07:18,  3.68s/it]"
     ]
    },
    {
     "name": "stdout",
     "output_type": "stream",
     "text": [
      "Epoch 31/150: Train Loss: 123.3819115925305\n",
      "---------------------------------\n",
      "Validation Loss: 123.85234666907269\n",
      "kl: 16.377477645874023\n",
      "element: 19.96265411376953\n",
      "wyckoff_sites: 12.483622550964355\n",
      "wyckoff_multiplier: 6.658631324768066\n",
      "frac_coords: 9.866846084594727\n",
      "space_group: 50.53611755371094\n",
      "lattice: 9.789168357849121\n",
      "total: 125.67451477050781\n",
      "---------------------------------\n"
     ]
    },
    {
     "name": "stderr",
     "output_type": "stream",
     "text": [
      " 21%|██▏       | 32/150 [01:57<07:14,  3.68s/it]"
     ]
    },
    {
     "name": "stdout",
     "output_type": "stream",
     "text": [
      "Epoch 32/150: Train Loss: 123.25103913856844\n",
      "---------------------------------\n",
      "Validation Loss: 123.53997902248217\n",
      "kl: 16.913986206054688\n",
      "element: 20.068187713623047\n",
      "wyckoff_sites: 13.50205135345459\n",
      "wyckoff_multiplier: 7.919228553771973\n",
      "frac_coords: 9.519460678100586\n",
      "space_group: 50.85283279418945\n",
      "lattice: 14.454923629760742\n",
      "total: 133.2306671142578\n",
      "---------------------------------\n"
     ]
    },
    {
     "name": "stderr",
     "output_type": "stream",
     "text": [
      " 22%|██▏       | 33/150 [02:01<07:11,  3.69s/it]"
     ]
    },
    {
     "name": "stdout",
     "output_type": "stream",
     "text": [
      "Epoch 33/150: Train Loss: 122.86166182644848\n",
      "---------------------------------\n",
      "Validation Loss: 122.39988144584323\n",
      "kl: 14.50303840637207\n",
      "element: 19.766794204711914\n",
      "wyckoff_sites: 11.93414306640625\n",
      "wyckoff_multiplier: 7.0223188400268555\n",
      "frac_coords: 9.600028038024902\n",
      "space_group: 49.93947982788086\n",
      "lattice: 10.518402099609375\n",
      "total: 123.28419494628906\n",
      "---------------------------------\n"
     ]
    },
    {
     "name": "stderr",
     "output_type": "stream",
     "text": [
      " 23%|██▎       | 34/150 [02:05<07:07,  3.69s/it]"
     ]
    },
    {
     "name": "stdout",
     "output_type": "stream",
     "text": [
      "Epoch 34/150: Train Loss: 122.9343646946799\n",
      "---------------------------------\n",
      "Validation Loss: 125.41549616274627\n",
      "kl: 18.249134063720703\n",
      "element: 19.621313095092773\n",
      "wyckoff_sites: 12.307610511779785\n",
      "wyckoff_multiplier: 7.053276538848877\n",
      "frac_coords: 9.528663635253906\n",
      "space_group: 50.52680206298828\n",
      "lattice: 9.29800796508789\n",
      "total: 126.58480072021484\n",
      "---------------------------------\n"
     ]
    },
    {
     "name": "stderr",
     "output_type": "stream",
     "text": [
      " 23%|██▎       | 35/150 [02:09<07:04,  3.69s/it]"
     ]
    },
    {
     "name": "stdout",
     "output_type": "stream",
     "text": [
      "Epoch 35/150: Train Loss: 122.8988499758866\n",
      "---------------------------------\n",
      "Validation Loss: 123.22313192616339\n",
      "kl: 14.118158340454102\n",
      "element: 18.126663208007812\n",
      "wyckoff_sites: 13.028484344482422\n",
      "wyckoff_multiplier: 7.114320755004883\n",
      "frac_coords: 8.969785690307617\n",
      "space_group: 48.91544723510742\n",
      "lattice: 12.62310791015625\n",
      "total: 122.89596557617188\n",
      "---------------------------------\n"
     ]
    },
    {
     "name": "stderr",
     "output_type": "stream",
     "text": [
      " 24%|██▍       | 36/150 [02:12<06:59,  3.68s/it]"
     ]
    },
    {
     "name": "stdout",
     "output_type": "stream",
     "text": [
      "Epoch 36/150: Train Loss: 122.77026991069023\n",
      "---------------------------------\n",
      "Validation Loss: 123.26369973887567\n",
      "kl: 14.998560905456543\n",
      "element: 19.670772552490234\n",
      "wyckoff_sites: 12.555451393127441\n",
      "wyckoff_multiplier: 7.55381441116333\n",
      "frac_coords: 9.83475112915039\n",
      "space_group: 50.256019592285156\n",
      "lattice: 12.673913955688477\n",
      "total: 127.54328918457031\n",
      "---------------------------------\n"
     ]
    },
    {
     "name": "stderr",
     "output_type": "stream",
     "text": [
      " 25%|██▍       | 37/150 [02:16<06:55,  3.68s/it]"
     ]
    },
    {
     "name": "stdout",
     "output_type": "stream",
     "text": [
      "Epoch 37/150: Train Loss: 122.4292878775761\n",
      "---------------------------------\n",
      "Validation Loss: 123.11212523087211\n",
      "kl: 19.028018951416016\n",
      "element: 18.864299774169922\n",
      "wyckoff_sites: 12.393796920776367\n",
      "wyckoff_multiplier: 6.443896293640137\n",
      "frac_coords: 9.103708267211914\n",
      "space_group: 49.540828704833984\n",
      "lattice: 7.622316360473633\n",
      "total: 122.99685668945312\n",
      "---------------------------------\n"
     ]
    },
    {
     "name": "stderr",
     "output_type": "stream",
     "text": [
      " 25%|██▌       | 38/150 [02:19<06:51,  3.67s/it]"
     ]
    },
    {
     "name": "stdout",
     "output_type": "stream",
     "text": [
      "Epoch 38/150: Train Loss: 122.45104751211082\n",
      "---------------------------------\n",
      "Validation Loss: 123.1568603515625\n",
      "kl: 16.833072662353516\n",
      "element: 22.211668014526367\n",
      "wyckoff_sites: 12.287332534790039\n",
      "wyckoff_multiplier: 7.991182804107666\n",
      "frac_coords: 10.859330177307129\n",
      "space_group: 50.02290725708008\n",
      "lattice: 10.220973014831543\n",
      "total: 130.4264678955078\n",
      "---------------------------------\n"
     ]
    },
    {
     "name": "stderr",
     "output_type": "stream",
     "text": [
      " 26%|██▌       | 39/150 [02:23<06:47,  3.67s/it]"
     ]
    },
    {
     "name": "stdout",
     "output_type": "stream",
     "text": [
      "Epoch 39/150: Train Loss: 122.57900091462534\n",
      "---------------------------------\n",
      "Validation Loss: 122.31353991964589\n",
      "kl: 17.524757385253906\n",
      "element: 18.333049774169922\n",
      "wyckoff_sites: 12.059138298034668\n",
      "wyckoff_multiplier: 7.711668014526367\n",
      "frac_coords: 8.73512077331543\n",
      "space_group: 49.4312744140625\n",
      "lattice: 7.612880706787109\n",
      "total: 121.40789031982422\n",
      "---------------------------------\n"
     ]
    },
    {
     "name": "stderr",
     "output_type": "stream",
     "text": [
      " 27%|██▋       | 40/150 [02:27<06:43,  3.67s/it]"
     ]
    },
    {
     "name": "stdout",
     "output_type": "stream",
     "text": [
      "Epoch 40/150: Train Loss: 122.39600518889029\n",
      "---------------------------------\n",
      "Validation Loss: 123.1148562224015\n",
      "kl: 16.31525230407715\n",
      "element: 18.50815773010254\n",
      "wyckoff_sites: 12.495407104492188\n",
      "wyckoff_multiplier: 6.917281150817871\n",
      "frac_coords: 8.67440414428711\n",
      "space_group: 49.144927978515625\n",
      "lattice: 9.70042610168457\n",
      "total: 121.75585174560547\n",
      "---------------------------------\n"
     ]
    },
    {
     "name": "stderr",
     "output_type": "stream",
     "text": [
      " 27%|██▋       | 41/150 [02:30<06:39,  3.67s/it]"
     ]
    },
    {
     "name": "stdout",
     "output_type": "stream",
     "text": [
      "Epoch 41/150: Train Loss: 122.2689102248018\n",
      "---------------------------------\n",
      "Validation Loss: 122.31044437574303\n",
      "kl: 17.387527465820312\n",
      "element: 18.059974670410156\n",
      "wyckoff_sites: 12.88715648651123\n",
      "wyckoff_multiplier: 5.952717304229736\n",
      "frac_coords: 8.805927276611328\n",
      "space_group: 48.91958236694336\n",
      "lattice: 7.463165283203125\n",
      "total: 119.4760513305664\n",
      "---------------------------------\n"
     ]
    },
    {
     "name": "stderr",
     "output_type": "stream",
     "text": [
      " 28%|██▊       | 42/150 [02:34<06:36,  3.67s/it]"
     ]
    },
    {
     "name": "stdout",
     "output_type": "stream",
     "text": [
      "Epoch 42/150: Train Loss: 122.4624606729141\n",
      "---------------------------------\n",
      "Validation Loss: 124.72170390253481\n",
      "kl: 18.215343475341797\n",
      "element: 18.307649612426758\n",
      "wyckoff_sites: 12.533945083618164\n",
      "wyckoff_multiplier: 7.750087261199951\n",
      "frac_coords: 8.922159194946289\n",
      "space_group: 50.558380126953125\n",
      "lattice: 12.708707809448242\n",
      "total: 128.99627685546875\n",
      "---------------------------------\n"
     ]
    },
    {
     "name": "stderr",
     "output_type": "stream",
     "text": [
      " 29%|██▊       | 43/150 [02:38<06:33,  3.68s/it]"
     ]
    },
    {
     "name": "stdout",
     "output_type": "stream",
     "text": [
      "Epoch 43/150: Train Loss: 122.09876266253993\n",
      "---------------------------------\n",
      "Validation Loss: 122.13505388342816\n",
      "kl: 16.562511444091797\n",
      "element: 19.430124282836914\n",
      "wyckoff_sites: 13.680622100830078\n",
      "wyckoff_multiplier: 6.037443161010742\n",
      "frac_coords: 9.90693473815918\n",
      "space_group: 50.049591064453125\n",
      "lattice: 13.038869857788086\n",
      "total: 128.7061004638672\n",
      "---------------------------------\n"
     ]
    },
    {
     "name": "stderr",
     "output_type": "stream",
     "text": [
      " 29%|██▉       | 44/150 [02:42<06:30,  3.69s/it]"
     ]
    },
    {
     "name": "stdout",
     "output_type": "stream",
     "text": [
      "Epoch 44/150: Train Loss: 121.63678985746036\n",
      "---------------------------------\n",
      "Validation Loss: 121.78094150709069\n",
      "kl: 18.73031997680664\n",
      "element: 18.18648910522461\n",
      "wyckoff_sites: 12.034368515014648\n",
      "wyckoff_multiplier: 7.056953430175781\n",
      "frac_coords: 8.811128616333008\n",
      "space_group: 49.57401657104492\n",
      "lattice: 6.08992338180542\n",
      "total: 120.48320007324219\n",
      "---------------------------------\n"
     ]
    },
    {
     "name": "stderr",
     "output_type": "stream",
     "text": [
      " 30%|███       | 45/150 [02:45<06:27,  3.69s/it]"
     ]
    },
    {
     "name": "stdout",
     "output_type": "stream",
     "text": [
      "Epoch 45/150: Train Loss: 121.20484041110636\n",
      "---------------------------------\n",
      "Validation Loss: 124.25830907407014\n",
      "kl: 17.528362274169922\n",
      "element: 18.640789031982422\n",
      "wyckoff_sites: 12.636038780212402\n",
      "wyckoff_multiplier: 7.065470218658447\n",
      "frac_coords: 9.320279121398926\n",
      "space_group: 50.0236930847168\n",
      "lattice: 14.827877044677734\n",
      "total: 130.04251098632812\n",
      "---------------------------------\n"
     ]
    },
    {
     "name": "stderr",
     "output_type": "stream",
     "text": [
      " 31%|███       | 46/150 [02:49<06:23,  3.69s/it]"
     ]
    },
    {
     "name": "stdout",
     "output_type": "stream",
     "text": [
      "Epoch 46/150: Train Loss: 121.40476181706771\n",
      "---------------------------------\n",
      "Validation Loss: 123.5430503513502\n",
      "kl: 15.97305965423584\n",
      "element: 21.438392639160156\n",
      "wyckoff_sites: 11.868186950683594\n",
      "wyckoff_multiplier: 6.674507141113281\n",
      "frac_coords: 10.577939987182617\n",
      "space_group: 50.61832809448242\n",
      "lattice: 17.188493728637695\n",
      "total: 134.33889770507812\n",
      "---------------------------------\n"
     ]
    },
    {
     "name": "stderr",
     "output_type": "stream",
     "text": [
      " 31%|███▏      | 47/150 [02:53<06:19,  3.69s/it]"
     ]
    },
    {
     "name": "stdout",
     "output_type": "stream",
     "text": [
      "Epoch 47/150: Train Loss: 121.11326087989244\n",
      "---------------------------------\n",
      "Validation Loss: 123.49852387801461\n",
      "kl: 19.171518325805664\n",
      "element: 19.264772415161133\n",
      "wyckoff_sites: 12.849193572998047\n",
      "wyckoff_multiplier: 6.4721174240112305\n",
      "frac_coords: 9.513686180114746\n",
      "space_group: 49.99254608154297\n",
      "lattice: 8.626805305480957\n",
      "total: 125.89063262939453\n",
      "---------------------------------\n"
     ]
    },
    {
     "name": "stderr",
     "output_type": "stream",
     "text": [
      " 32%|███▏      | 48/150 [02:56<06:16,  3.69s/it]"
     ]
    },
    {
     "name": "stdout",
     "output_type": "stream",
     "text": [
      "Epoch 48/150: Train Loss: 120.77686512763864\n",
      "---------------------------------\n",
      "Validation Loss: 123.0744224216627\n",
      "kl: 18.02825355529785\n",
      "element: 18.102313995361328\n",
      "wyckoff_sites: 13.232173919677734\n",
      "wyckoff_multiplier: 7.79374361038208\n",
      "frac_coords: 8.998172760009766\n",
      "space_group: 50.0925407409668\n",
      "lattice: 14.01789665222168\n",
      "total: 130.26510620117188\n",
      "---------------------------------\n"
     ]
    },
    {
     "name": "stderr",
     "output_type": "stream",
     "text": [
      " 33%|███▎      | 49/150 [03:00<06:12,  3.69s/it]"
     ]
    },
    {
     "name": "stdout",
     "output_type": "stream",
     "text": [
      "Epoch 49/150: Train Loss: 120.51939948321564\n",
      "---------------------------------\n",
      "Validation Loss: 122.73075833527938\n",
      "kl: 16.331912994384766\n",
      "element: 19.86519432067871\n",
      "wyckoff_sites: 12.57376766204834\n",
      "wyckoff_multiplier: 6.682808876037598\n",
      "frac_coords: 9.375262260437012\n",
      "space_group: 49.44978713989258\n",
      "lattice: 7.022413730621338\n",
      "total: 121.30115509033203\n",
      "---------------------------------\n"
     ]
    },
    {
     "name": "stderr",
     "output_type": "stream",
     "text": [
      " 33%|███▎      | 50/150 [03:04<06:08,  3.69s/it]"
     ]
    },
    {
     "name": "stdout",
     "output_type": "stream",
     "text": [
      "Epoch 50/150: Train Loss: 121.01136982734567\n",
      "---------------------------------\n",
      "Validation Loss: 121.17217254638672\n",
      "kl: 19.077970504760742\n",
      "element: 17.79461669921875\n",
      "wyckoff_sites: 12.428922653198242\n",
      "wyckoff_multiplier: 7.319958209991455\n",
      "frac_coords: 8.58457088470459\n",
      "space_group: 49.028987884521484\n",
      "lattice: 5.44199275970459\n",
      "total: 119.6770248413086\n",
      "---------------------------------\n"
     ]
    },
    {
     "name": "stderr",
     "output_type": "stream",
     "text": [
      " 34%|███▍      | 51/150 [03:07<06:04,  3.68s/it]"
     ]
    },
    {
     "name": "stdout",
     "output_type": "stream",
     "text": [
      "Epoch 51/150: Train Loss: 121.21962497504474\n",
      "---------------------------------\n",
      "Validation Loss: 124.90825155506964\n",
      "kl: 16.447532653808594\n",
      "element: 17.741134643554688\n",
      "wyckoff_sites: 13.22125244140625\n",
      "wyckoff_multiplier: 6.414126396179199\n",
      "frac_coords: 8.447325706481934\n",
      "space_group: 50.30335235595703\n",
      "lattice: 8.218570709228516\n",
      "total: 120.79328918457031\n",
      "---------------------------------\n"
     ]
    },
    {
     "name": "stderr",
     "output_type": "stream",
     "text": [
      " 35%|███▍      | 52/150 [03:11<06:01,  3.69s/it]"
     ]
    },
    {
     "name": "stdout",
     "output_type": "stream",
     "text": [
      "Epoch 52/150: Train Loss: 120.66160008472762\n",
      "---------------------------------\n",
      "Validation Loss: 122.61612469217052\n",
      "kl: 16.984216690063477\n",
      "element: 23.602785110473633\n",
      "wyckoff_sites: 12.28887939453125\n",
      "wyckoff_multiplier: 7.3371758460998535\n",
      "frac_coords: 12.311848640441895\n",
      "space_group: 50.04508972167969\n",
      "lattice: 17.022336959838867\n",
      "total: 139.5923309326172\n",
      "---------------------------------\n"
     ]
    },
    {
     "name": "stderr",
     "output_type": "stream",
     "text": [
      " 35%|███▌      | 53/150 [03:15<05:57,  3.69s/it]"
     ]
    },
    {
     "name": "stdout",
     "output_type": "stream",
     "text": [
      "Epoch 53/150: Train Loss: 120.19893961939319\n",
      "---------------------------------\n",
      "Validation Loss: 121.04000290580417\n",
      "kl: 17.229520797729492\n",
      "element: 17.938922882080078\n",
      "wyckoff_sites: 11.57298755645752\n",
      "wyckoff_multiplier: 6.60868501663208\n",
      "frac_coords: 8.709955215454102\n",
      "space_group: 50.17232894897461\n",
      "lattice: 10.73099422454834\n",
      "total: 122.9634017944336\n",
      "---------------------------------\n"
     ]
    },
    {
     "name": "stderr",
     "output_type": "stream",
     "text": [
      " 36%|███▌      | 54/150 [03:18<05:53,  3.69s/it]"
     ]
    },
    {
     "name": "stdout",
     "output_type": "stream",
     "text": [
      "Epoch 54/150: Train Loss: 119.66588479779624\n",
      "---------------------------------\n",
      "Validation Loss: 121.00505928371264\n",
      "kl: 15.326505661010742\n",
      "element: 22.19187355041504\n",
      "wyckoff_sites: 12.572745323181152\n",
      "wyckoff_multiplier: 6.835906505584717\n",
      "frac_coords: 11.37083625793457\n",
      "space_group: 50.22260665893555\n",
      "lattice: 18.165128707885742\n",
      "total: 136.68560791015625\n",
      "---------------------------------\n"
     ]
    },
    {
     "name": "stderr",
     "output_type": "stream",
     "text": [
      " 37%|███▋      | 55/150 [03:22<05:50,  3.69s/it]"
     ]
    },
    {
     "name": "stdout",
     "output_type": "stream",
     "text": [
      "Epoch 55/150: Train Loss: 120.020120404624\n",
      "---------------------------------\n",
      "Validation Loss: 121.28430242123811\n",
      "kl: 18.207157135009766\n",
      "element: 19.005216598510742\n",
      "wyckoff_sites: 12.65682601928711\n",
      "wyckoff_multiplier: 6.247809886932373\n",
      "frac_coords: 8.898760795593262\n",
      "space_group: 49.660804748535156\n",
      "lattice: 8.085506439208984\n",
      "total: 122.76209259033203\n",
      "---------------------------------\n"
     ]
    },
    {
     "name": "stderr",
     "output_type": "stream",
     "text": [
      " 37%|███▋      | 56/150 [03:26<05:46,  3.69s/it]"
     ]
    },
    {
     "name": "stdout",
     "output_type": "stream",
     "text": [
      "Epoch 56/150: Train Loss: 120.04773881282712\n",
      "---------------------------------\n",
      "Validation Loss: 122.06723321002463\n",
      "kl: 18.988874435424805\n",
      "element: 18.024560928344727\n",
      "wyckoff_sites: 12.400968551635742\n",
      "wyckoff_multiplier: 6.820044994354248\n",
      "frac_coords: 8.996692657470703\n",
      "space_group: 49.45772171020508\n",
      "lattice: 9.776124954223633\n",
      "total: 124.4649887084961\n",
      "---------------------------------\n"
     ]
    },
    {
     "name": "stderr",
     "output_type": "stream",
     "text": [
      " 38%|███▊      | 57/150 [03:30<05:42,  3.69s/it]"
     ]
    },
    {
     "name": "stdout",
     "output_type": "stream",
     "text": [
      "Epoch 57/150: Train Loss: 119.43241750782934\n",
      "---------------------------------\n",
      "Validation Loss: 121.7979388029679\n",
      "kl: 18.69304656982422\n",
      "element: 18.866121292114258\n",
      "wyckoff_sites: 12.130023956298828\n",
      "wyckoff_multiplier: 7.3382568359375\n",
      "frac_coords: 9.213976860046387\n",
      "space_group: 49.21754837036133\n",
      "lattice: 8.018901824951172\n",
      "total: 123.47787475585938\n",
      "---------------------------------\n"
     ]
    },
    {
     "name": "stderr",
     "output_type": "stream",
     "text": [
      " 39%|███▊      | 58/150 [03:33<05:39,  3.69s/it]"
     ]
    },
    {
     "name": "stdout",
     "output_type": "stream",
     "text": [
      "Epoch 58/150: Train Loss: 119.75475296246007\n",
      "---------------------------------\n",
      "Validation Loss: 119.28777313232422\n",
      "kl: 17.314861297607422\n",
      "element: 19.715816497802734\n",
      "wyckoff_sites: 11.49831771850586\n",
      "wyckoff_multiplier: 7.529656410217285\n",
      "frac_coords: 9.756932258605957\n",
      "space_group: 49.6392822265625\n",
      "lattice: 7.462940216064453\n",
      "total: 122.91780853271484\n",
      "---------------------------------\n"
     ]
    },
    {
     "name": "stderr",
     "output_type": "stream",
     "text": [
      " 39%|███▉      | 59/150 [03:37<05:35,  3.69s/it]"
     ]
    },
    {
     "name": "stdout",
     "output_type": "stream",
     "text": [
      "Epoch 59/150: Train Loss: 119.30570852345434\n",
      "---------------------------------\n",
      "Validation Loss: 120.03157275655995\n",
      "kl: 17.365196228027344\n",
      "element: 20.54623031616211\n",
      "wyckoff_sites: 12.27115249633789\n",
      "wyckoff_multiplier: 6.179066181182861\n",
      "frac_coords: 9.749948501586914\n",
      "space_group: 49.967193603515625\n",
      "lattice: 7.459997177124023\n",
      "total: 123.53878021240234\n",
      "---------------------------------\n"
     ]
    },
    {
     "name": "stderr",
     "output_type": "stream",
     "text": [
      " 40%|████      | 60/150 [03:41<05:31,  3.69s/it]"
     ]
    },
    {
     "name": "stdout",
     "output_type": "stream",
     "text": [
      "Epoch 60/150: Train Loss: 119.52639680308074\n",
      "---------------------------------\n",
      "Validation Loss: 122.37558248768683\n",
      "kl: 17.941442489624023\n",
      "element: 18.508756637573242\n",
      "wyckoff_sites: 12.879718780517578\n",
      "wyckoff_multiplier: 7.534542560577393\n",
      "frac_coords: 9.673391342163086\n",
      "space_group: 49.79356384277344\n",
      "lattice: 11.00379467010498\n",
      "total: 127.33522033691406\n",
      "---------------------------------\n"
     ]
    },
    {
     "name": "stderr",
     "output_type": "stream",
     "text": [
      " 41%|████      | 61/150 [03:44<05:28,  3.69s/it]"
     ]
    },
    {
     "name": "stdout",
     "output_type": "stream",
     "text": [
      "Epoch 61/150: Train Loss: 119.47833744293364\n",
      "---------------------------------\n",
      "Validation Loss: 120.1143742436948\n",
      "kl: 19.491127014160156\n",
      "element: 17.864309310913086\n",
      "wyckoff_sites: 12.105896949768066\n",
      "wyckoff_multiplier: 6.613103866577148\n",
      "frac_coords: 9.144648551940918\n",
      "space_group: 49.48530578613281\n",
      "lattice: 8.288677215576172\n",
      "total: 122.99307250976562\n",
      "---------------------------------\n"
     ]
    },
    {
     "name": "stderr",
     "output_type": "stream",
     "text": [
      " 41%|████▏     | 62/150 [03:48<05:24,  3.69s/it]"
     ]
    },
    {
     "name": "stdout",
     "output_type": "stream",
     "text": [
      "Epoch 62/150: Train Loss: 118.17551305611146\n",
      "---------------------------------\n",
      "Validation Loss: 119.03732167119566\n",
      "kl: 17.896472930908203\n",
      "element: 19.42095947265625\n",
      "wyckoff_sites: 12.32002067565918\n",
      "wyckoff_multiplier: 6.63602876663208\n",
      "frac_coords: 10.08277702331543\n",
      "space_group: 48.90568542480469\n",
      "lattice: 6.7644453048706055\n",
      "total: 122.0263900756836\n",
      "---------------------------------\n"
     ]
    },
    {
     "name": "stderr",
     "output_type": "stream",
     "text": [
      " 42%|████▏     | 63/150 [03:52<05:21,  3.69s/it]"
     ]
    },
    {
     "name": "stdout",
     "output_type": "stream",
     "text": [
      "Epoch 63/150: Train Loss: 118.46487907823084\n",
      "---------------------------------\n",
      "Validation Loss: 118.62994948677395\n",
      "kl: 16.707521438598633\n",
      "element: 17.609397888183594\n",
      "wyckoff_sites: 12.646541595458984\n",
      "wyckoff_multiplier: 6.375088214874268\n",
      "frac_coords: 8.755736351013184\n",
      "space_group: 49.64469528198242\n",
      "lattice: 10.851651191711426\n",
      "total: 122.59063720703125\n",
      "---------------------------------\n"
     ]
    },
    {
     "name": "stderr",
     "output_type": "stream",
     "text": [
      " 43%|████▎     | 64/150 [03:55<05:17,  3.69s/it]"
     ]
    },
    {
     "name": "stdout",
     "output_type": "stream",
     "text": [
      "Epoch 64/150: Train Loss: 118.19972657452664\n",
      "---------------------------------\n",
      "Validation Loss: 118.86480945089589\n",
      "kl: 17.32573127746582\n",
      "element: 18.193347930908203\n",
      "wyckoff_sites: 11.72694206237793\n",
      "wyckoff_multiplier: 6.57164192199707\n",
      "frac_coords: 8.555952072143555\n",
      "space_group: 48.94571304321289\n",
      "lattice: 9.531265258789062\n",
      "total: 120.8505859375\n",
      "---------------------------------\n"
     ]
    },
    {
     "name": "stderr",
     "output_type": "stream",
     "text": [
      " 43%|████▎     | 65/150 [03:59<05:13,  3.69s/it]"
     ]
    },
    {
     "name": "stdout",
     "output_type": "stream",
     "text": [
      "Epoch 65/150: Train Loss: 118.11168648104362\n",
      "---------------------------------\n",
      "Validation Loss: 118.12732364820397\n",
      "kl: 17.767108917236328\n",
      "element: 18.76566505432129\n",
      "wyckoff_sites: 11.785304069519043\n",
      "wyckoff_multiplier: 6.051120281219482\n",
      "frac_coords: 9.280828475952148\n",
      "space_group: 49.9859619140625\n",
      "lattice: 5.705027103424072\n",
      "total: 119.34100341796875\n",
      "---------------------------------\n"
     ]
    },
    {
     "name": "stderr",
     "output_type": "stream",
     "text": [
      " 44%|████▍     | 66/150 [04:03<05:10,  3.69s/it]"
     ]
    },
    {
     "name": "stdout",
     "output_type": "stream",
     "text": [
      "Epoch 66/150: Train Loss: 117.67466465240629\n",
      "---------------------------------\n",
      "Validation Loss: 118.39627241051716\n",
      "kl: 18.1890869140625\n",
      "element: 18.50578498840332\n",
      "wyckoff_sites: 11.415770530700684\n",
      "wyckoff_multiplier: 7.117608070373535\n",
      "frac_coords: 9.520597457885742\n",
      "space_group: 49.47615051269531\n",
      "lattice: 12.598528861999512\n",
      "total: 126.82352447509766\n",
      "---------------------------------\n"
     ]
    },
    {
     "name": "stderr",
     "output_type": "stream",
     "text": [
      " 45%|████▍     | 67/150 [04:06<05:06,  3.70s/it]"
     ]
    },
    {
     "name": "stdout",
     "output_type": "stream",
     "text": [
      "Epoch 67/150: Train Loss: 117.38988250582089\n",
      "---------------------------------\n",
      "Validation Loss: 117.19461789338484\n",
      "kl: 18.681610107421875\n",
      "element: 18.945568084716797\n",
      "wyckoff_sites: 11.967872619628906\n",
      "wyckoff_multiplier: 7.425333499908447\n",
      "frac_coords: 8.760062217712402\n",
      "space_group: 48.906253814697266\n",
      "lattice: 10.464858055114746\n",
      "total: 125.15156555175781\n",
      "---------------------------------\n"
     ]
    },
    {
     "name": "stderr",
     "output_type": "stream",
     "text": [
      " 45%|████▌     | 68/150 [04:10<05:02,  3.69s/it]"
     ]
    },
    {
     "name": "stdout",
     "output_type": "stream",
     "text": [
      "Epoch 68/150: Train Loss: 117.12075974788571\n",
      "---------------------------------\n",
      "Validation Loss: 117.6251104603643\n",
      "kl: 18.555763244628906\n",
      "element: 15.82858943939209\n",
      "wyckoff_sites: 12.861830711364746\n",
      "wyckoff_multiplier: 5.847740650177002\n",
      "frac_coords: 7.940248489379883\n",
      "space_group: 49.4692268371582\n",
      "lattice: 13.69321346282959\n",
      "total: 124.19661712646484\n",
      "---------------------------------\n"
     ]
    },
    {
     "name": "stderr",
     "output_type": "stream",
     "text": [
      " 46%|████▌     | 69/150 [04:14<04:59,  3.69s/it]"
     ]
    },
    {
     "name": "stdout",
     "output_type": "stream",
     "text": [
      "Epoch 69/150: Train Loss: 117.15449313459725\n",
      "---------------------------------\n",
      "Validation Loss: 117.25208017100458\n",
      "kl: 17.384973526000977\n",
      "element: 18.558067321777344\n",
      "wyckoff_sites: 12.284852981567383\n",
      "wyckoff_multiplier: 7.030012130737305\n",
      "frac_coords: 8.47830867767334\n",
      "space_group: 48.97226333618164\n",
      "lattice: 10.583447456359863\n",
      "total: 123.29192352294922\n",
      "---------------------------------\n"
     ]
    },
    {
     "name": "stderr",
     "output_type": "stream",
     "text": [
      " 47%|████▋     | 70/150 [04:18<04:55,  3.69s/it]"
     ]
    },
    {
     "name": "stdout",
     "output_type": "stream",
     "text": [
      "Epoch 70/150: Train Loss: 116.70142657651103\n",
      "---------------------------------\n",
      "Validation Loss: 117.56479843803073\n",
      "kl: 18.62664031982422\n",
      "element: 20.019210815429688\n",
      "wyckoff_sites: 12.337639808654785\n",
      "wyckoff_multiplier: 6.686314105987549\n",
      "frac_coords: 10.107772827148438\n",
      "space_group: 50.01190185546875\n",
      "lattice: 8.545270919799805\n",
      "total: 126.33475494384766\n",
      "---------------------------------\n"
     ]
    },
    {
     "name": "stderr",
     "output_type": "stream",
     "text": [
      " 47%|████▋     | 71/150 [04:21<04:50,  3.68s/it]"
     ]
    },
    {
     "name": "stdout",
     "output_type": "stream",
     "text": [
      "Epoch 71/150: Train Loss: 116.48501489197679\n",
      "---------------------------------\n",
      "Validation Loss: 117.57312542459239\n",
      "kl: 18.671295166015625\n",
      "element: 18.953882217407227\n",
      "wyckoff_sites: 11.566425323486328\n",
      "wyckoff_multiplier: 7.094257354736328\n",
      "frac_coords: 9.198930740356445\n",
      "space_group: 49.743255615234375\n",
      "lattice: 17.959157943725586\n",
      "total: 133.18719482421875\n",
      "---------------------------------\n"
     ]
    },
    {
     "name": "stderr",
     "output_type": "stream",
     "text": [
      " 48%|████▊     | 72/150 [04:25<04:46,  3.68s/it]"
     ]
    },
    {
     "name": "stdout",
     "output_type": "stream",
     "text": [
      "Epoch 72/150: Train Loss: 116.22932591931573\n",
      "---------------------------------\n",
      "Validation Loss: 117.46304653001869\n",
      "kl: 18.856786727905273\n",
      "element: 20.86820411682129\n",
      "wyckoff_sites: 11.364819526672363\n",
      "wyckoff_multiplier: 7.158321857452393\n",
      "frac_coords: 10.707054138183594\n",
      "space_group: 48.91342544555664\n",
      "lattice: 11.054603576660156\n",
      "total: 128.9232177734375\n",
      "---------------------------------\n"
     ]
    },
    {
     "name": "stderr",
     "output_type": "stream",
     "text": [
      " 49%|████▊     | 73/150 [04:29<04:43,  3.68s/it]"
     ]
    },
    {
     "name": "stdout",
     "output_type": "stream",
     "text": [
      "Epoch 73/150: Train Loss: 115.67103080561596\n",
      "---------------------------------\n",
      "Validation Loss: 115.65496793000594\n",
      "kl: 18.667753219604492\n",
      "element: 17.736997604370117\n",
      "wyckoff_sites: 11.630054473876953\n",
      "wyckoff_multiplier: 7.05984354019165\n",
      "frac_coords: 8.542187690734863\n",
      "space_group: 49.74876403808594\n",
      "lattice: 5.298358917236328\n",
      "total: 118.6839599609375\n",
      "---------------------------------\n"
     ]
    },
    {
     "name": "stderr",
     "output_type": "stream",
     "text": [
      " 49%|████▉     | 74/150 [04:32<04:40,  3.69s/it]"
     ]
    },
    {
     "name": "stdout",
     "output_type": "stream",
     "text": [
      "Epoch 74/150: Train Loss: 115.97776163035425\n",
      "---------------------------------\n",
      "Validation Loss: 117.79696389903192\n",
      "kl: 18.533039093017578\n",
      "element: 20.104623794555664\n",
      "wyckoff_sites: 11.795951843261719\n",
      "wyckoff_multiplier: 6.902769565582275\n",
      "frac_coords: 10.284369468688965\n",
      "space_group: 48.9094352722168\n",
      "lattice: 8.780532836914062\n",
      "total: 125.31072235107422\n",
      "---------------------------------\n"
     ]
    },
    {
     "name": "stderr",
     "output_type": "stream",
     "text": [
      " 50%|█████     | 75/150 [04:36<04:35,  3.68s/it]"
     ]
    },
    {
     "name": "stdout",
     "output_type": "stream",
     "text": [
      "Epoch 75/150: Train Loss: 115.87262237248163\n",
      "---------------------------------\n",
      "Validation Loss: 116.15854744289233\n",
      "kl: 19.31038475036621\n",
      "element: 18.145851135253906\n",
      "wyckoff_sites: 12.49941349029541\n",
      "wyckoff_multiplier: 5.946536540985107\n",
      "frac_coords: 8.634907722473145\n",
      "space_group: 49.28834915161133\n",
      "lattice: 6.154539585113525\n",
      "total: 119.97998046875\n",
      "---------------------------------\n"
     ]
    },
    {
     "name": "stderr",
     "output_type": "stream",
     "text": [
      " 51%|█████     | 76/150 [04:40<04:32,  3.68s/it]"
     ]
    },
    {
     "name": "stdout",
     "output_type": "stream",
     "text": [
      "Epoch 76/150: Train Loss: 115.49489153782135\n",
      "---------------------------------\n",
      "Validation Loss: 116.5594187197478\n",
      "kl: 19.567607879638672\n",
      "element: 16.452194213867188\n",
      "wyckoff_sites: 12.23208236694336\n",
      "wyckoff_multiplier: 7.040890216827393\n",
      "frac_coords: 8.599190711975098\n",
      "space_group: 49.24030303955078\n",
      "lattice: 6.477719306945801\n",
      "total: 119.61000061035156\n",
      "---------------------------------\n"
     ]
    },
    {
     "name": "stderr",
     "output_type": "stream",
     "text": [
      " 51%|█████▏    | 77/150 [04:43<04:28,  3.68s/it]"
     ]
    },
    {
     "name": "stdout",
     "output_type": "stream",
     "text": [
      "Epoch 77/150: Train Loss: 115.64247052422886\n",
      "---------------------------------\n",
      "Validation Loss: 115.56021914274797\n",
      "kl: 18.54950523376465\n",
      "element: 18.80707550048828\n",
      "wyckoff_sites: 11.84389877319336\n",
      "wyckoff_multiplier: 6.394590377807617\n",
      "frac_coords: 9.13233470916748\n",
      "space_group: 48.92992401123047\n",
      "lattice: 6.552630424499512\n",
      "total: 120.2099609375\n",
      "---------------------------------\n"
     ]
    },
    {
     "name": "stderr",
     "output_type": "stream",
     "text": [
      " 52%|█████▏    | 78/150 [04:47<04:24,  3.67s/it]"
     ]
    },
    {
     "name": "stdout",
     "output_type": "stream",
     "text": [
      "Epoch 78/150: Train Loss: 115.34769003731864\n",
      "---------------------------------\n",
      "Validation Loss: 115.43286265497622\n",
      "kl: 17.803953170776367\n",
      "element: 17.900911331176758\n",
      "wyckoff_sites: 10.12655258178711\n",
      "wyckoff_multiplier: 6.93570613861084\n",
      "frac_coords: 8.799922943115234\n",
      "space_group: 49.46151351928711\n",
      "lattice: 8.183452606201172\n",
      "total: 119.2120132446289\n",
      "---------------------------------\n"
     ]
    },
    {
     "name": "stderr",
     "output_type": "stream",
     "text": [
      " 53%|█████▎    | 79/150 [04:51<04:20,  3.67s/it]"
     ]
    },
    {
     "name": "stdout",
     "output_type": "stream",
     "text": [
      "Epoch 79/150: Train Loss: 115.3100053759044\n",
      "---------------------------------\n",
      "Validation Loss: 115.42694124968156\n",
      "kl: 18.7095947265625\n",
      "element: 15.916339874267578\n",
      "wyckoff_sites: 11.861159324645996\n",
      "wyckoff_multiplier: 6.096018314361572\n",
      "frac_coords: 8.189278602600098\n",
      "space_group: 49.4386100769043\n",
      "lattice: 3.205080032348633\n",
      "total: 113.41606903076172\n",
      "---------------------------------\n"
     ]
    },
    {
     "name": "stderr",
     "output_type": "stream",
     "text": [
      " 53%|█████▎    | 80/150 [04:54<04:17,  3.68s/it]"
     ]
    },
    {
     "name": "stdout",
     "output_type": "stream",
     "text": [
      "Epoch 80/150: Train Loss: 114.9855879609808\n",
      "---------------------------------\n",
      "Validation Loss: 115.60832612410836\n",
      "kl: 19.335554122924805\n",
      "element: 16.36427879333496\n",
      "wyckoff_sites: 12.033924102783203\n",
      "wyckoff_multiplier: 8.080772399902344\n",
      "frac_coords: 8.302993774414062\n",
      "space_group: 48.949642181396484\n",
      "lattice: 8.480311393737793\n",
      "total: 121.54747772216797\n",
      "---------------------------------\n"
     ]
    },
    {
     "name": "stderr",
     "output_type": "stream",
     "text": [
      " 54%|█████▍    | 81/150 [04:58<04:13,  3.68s/it]"
     ]
    },
    {
     "name": "stdout",
     "output_type": "stream",
     "text": [
      "Epoch 81/150: Train Loss: 114.88847478857181\n",
      "---------------------------------\n",
      "Validation Loss: 114.84650918711786\n",
      "kl: 19.69854736328125\n",
      "element: 17.02373695373535\n",
      "wyckoff_sites: 12.658051490783691\n",
      "wyckoff_multiplier: 5.732250213623047\n",
      "frac_coords: 8.32725715637207\n",
      "space_group: 49.09010314941406\n",
      "lattice: 6.743707180023193\n",
      "total: 119.27365112304688\n",
      "---------------------------------\n"
     ]
    },
    {
     "name": "stderr",
     "output_type": "stream",
     "text": [
      " 55%|█████▍    | 82/150 [05:02<04:10,  3.68s/it]"
     ]
    },
    {
     "name": "stdout",
     "output_type": "stream",
     "text": [
      "Epoch 82/150: Train Loss: 114.62304349250981\n",
      "---------------------------------\n",
      "Validation Loss: 116.66359412151834\n",
      "kl: 19.211669921875\n",
      "element: 18.804393768310547\n",
      "wyckoff_sites: 12.664921760559082\n",
      "wyckoff_multiplier: 8.008598327636719\n",
      "frac_coords: 9.381746292114258\n",
      "space_group: 49.529571533203125\n",
      "lattice: 6.141464710235596\n",
      "total: 123.74237060546875\n",
      "---------------------------------\n"
     ]
    },
    {
     "name": "stderr",
     "output_type": "stream",
     "text": [
      " 55%|█████▌    | 83/150 [05:05<04:06,  3.68s/it]"
     ]
    },
    {
     "name": "stdout",
     "output_type": "stream",
     "text": [
      "Epoch 83/150: Train Loss: 114.69901170401738\n",
      "---------------------------------\n",
      "Validation Loss: 114.94392693561056\n",
      "kl: 18.38892364501953\n",
      "element: 16.268796920776367\n",
      "wyckoff_sites: 11.713431358337402\n",
      "wyckoff_multiplier: 7.556355953216553\n",
      "frac_coords: 7.923533916473389\n",
      "space_group: 48.90859603881836\n",
      "lattice: 4.490738391876221\n",
      "total: 115.25038146972656\n",
      "---------------------------------\n"
     ]
    },
    {
     "name": "stderr",
     "output_type": "stream",
     "text": [
      " 56%|█████▌    | 84/150 [05:09<04:03,  3.69s/it]"
     ]
    },
    {
     "name": "stdout",
     "output_type": "stream",
     "text": [
      "Epoch 84/150: Train Loss: 114.41076502306709\n",
      "---------------------------------\n",
      "Validation Loss: 115.61097717285156\n",
      "kl: 19.292884826660156\n",
      "element: 17.804861068725586\n",
      "wyckoff_sites: 10.939579010009766\n",
      "wyckoff_multiplier: 6.7766852378845215\n",
      "frac_coords: 8.280560493469238\n",
      "space_group: 48.90371322631836\n",
      "lattice: 2.854836940765381\n",
      "total: 114.85311889648438\n",
      "---------------------------------\n"
     ]
    },
    {
     "name": "stderr",
     "output_type": "stream",
     "text": [
      " 57%|█████▋    | 85/150 [05:13<03:59,  3.69s/it]"
     ]
    },
    {
     "name": "stdout",
     "output_type": "stream",
     "text": [
      "Epoch 85/150: Train Loss: 114.17801715117957\n",
      "---------------------------------\n",
      "Validation Loss: 114.09552997091542\n",
      "kl: 19.062820434570312\n",
      "element: 16.56119728088379\n",
      "wyckoff_sites: 11.601004600524902\n",
      "wyckoff_multiplier: 6.718524932861328\n",
      "frac_coords: 8.239500045776367\n",
      "space_group: 49.26959228515625\n",
      "lattice: 6.542669296264648\n",
      "total: 117.99531555175781\n",
      "---------------------------------\n"
     ]
    },
    {
     "name": "stderr",
     "output_type": "stream",
     "text": [
      " 57%|█████▋    | 86/150 [05:16<03:55,  3.69s/it]"
     ]
    },
    {
     "name": "stdout",
     "output_type": "stream",
     "text": [
      "Epoch 86/150: Train Loss: 114.31511549174492\n",
      "---------------------------------\n",
      "Validation Loss: 113.59657420282778\n",
      "kl: 18.55599021911621\n",
      "element: 16.95714569091797\n",
      "wyckoff_sites: 11.963251113891602\n",
      "wyckoff_multiplier: 5.9534173011779785\n",
      "frac_coords: 8.135662078857422\n",
      "space_group: 49.60761642456055\n",
      "lattice: 4.869514465332031\n",
      "total: 116.04259490966797\n",
      "---------------------------------\n"
     ]
    },
    {
     "name": "stderr",
     "output_type": "stream",
     "text": [
      " 58%|█████▊    | 87/150 [05:20<03:52,  3.68s/it]"
     ]
    },
    {
     "name": "stdout",
     "output_type": "stream",
     "text": [
      "Epoch 87/150: Train Loss: 113.95774427893126\n",
      "---------------------------------\n",
      "Validation Loss: 114.47457620371942\n",
      "kl: 18.787086486816406\n",
      "element: 16.851306915283203\n",
      "wyckoff_sites: 11.963802337646484\n",
      "wyckoff_multiplier: 5.627195358276367\n",
      "frac_coords: 8.522394180297852\n",
      "space_group: 49.45969009399414\n",
      "lattice: 7.299388885498047\n",
      "total: 118.5108642578125\n",
      "---------------------------------\n"
     ]
    },
    {
     "name": "stderr",
     "output_type": "stream",
     "text": [
      " 59%|█████▊    | 88/150 [05:24<03:48,  3.68s/it]"
     ]
    },
    {
     "name": "stdout",
     "output_type": "stream",
     "text": [
      "Epoch 88/150: Train Loss: 113.84714827514047\n",
      "---------------------------------\n",
      "Validation Loss: 115.32569354513417\n",
      "kl: 19.549285888671875\n",
      "element: 16.751375198364258\n",
      "wyckoff_sites: 11.469304084777832\n",
      "wyckoff_multiplier: 7.069450855255127\n",
      "frac_coords: 8.401397705078125\n",
      "space_group: 48.899559020996094\n",
      "lattice: 7.181715965270996\n",
      "total: 119.32209014892578\n",
      "---------------------------------\n"
     ]
    },
    {
     "name": "stderr",
     "output_type": "stream",
     "text": [
      " 59%|█████▉    | 89/150 [05:27<03:44,  3.69s/it]"
     ]
    },
    {
     "name": "stdout",
     "output_type": "stream",
     "text": [
      "Epoch 89/150: Train Loss: 114.00854759028392\n",
      "---------------------------------\n",
      "Validation Loss: 114.69799373460853\n",
      "kl: 18.84844970703125\n",
      "element: 18.229026794433594\n",
      "wyckoff_sites: 13.534531593322754\n",
      "wyckoff_multiplier: 6.024246692657471\n",
      "frac_coords: 9.695133209228516\n",
      "space_group: 49.362430572509766\n",
      "lattice: 9.102538108825684\n",
      "total: 124.79635620117188\n",
      "---------------------------------\n"
     ]
    },
    {
     "name": "stderr",
     "output_type": "stream",
     "text": [
      " 60%|██████    | 90/150 [05:31<03:41,  3.69s/it]"
     ]
    },
    {
     "name": "stdout",
     "output_type": "stream",
     "text": [
      "Epoch 90/150: Train Loss: 113.81912393053177\n",
      "---------------------------------\n",
      "Validation Loss: 113.78768058445142\n",
      "kl: 18.149442672729492\n",
      "element: 17.454669952392578\n",
      "wyckoff_sites: 11.010308265686035\n",
      "wyckoff_multiplier: 6.249100208282471\n",
      "frac_coords: 8.261876106262207\n",
      "space_group: 48.90645980834961\n",
      "lattice: 12.554237365722656\n",
      "total: 122.58609771728516\n",
      "---------------------------------\n"
     ]
    },
    {
     "name": "stderr",
     "output_type": "stream",
     "text": [
      " 61%|██████    | 91/150 [05:35<03:37,  3.69s/it]"
     ]
    },
    {
     "name": "stdout",
     "output_type": "stream",
     "text": [
      "Epoch 91/150: Train Loss: 113.83983209920046\n",
      "---------------------------------\n",
      "Validation Loss: 113.19410672395125\n",
      "kl: 19.311975479125977\n",
      "element: 18.12001609802246\n",
      "wyckoff_sites: 11.857824325561523\n",
      "wyckoff_multiplier: 5.879647254943848\n",
      "frac_coords: 9.500112533569336\n",
      "space_group: 49.61418533325195\n",
      "lattice: 6.145233154296875\n",
      "total: 120.42899322509766\n",
      "---------------------------------\n"
     ]
    },
    {
     "name": "stderr",
     "output_type": "stream",
     "text": [
      " 61%|██████▏   | 92/150 [05:38<03:33,  3.69s/it]"
     ]
    },
    {
     "name": "stdout",
     "output_type": "stream",
     "text": [
      "Epoch 92/150: Train Loss: 113.44022527234307\n",
      "---------------------------------\n",
      "Validation Loss: 114.40833348813264\n",
      "kl: 18.578914642333984\n",
      "element: 19.5413761138916\n",
      "wyckoff_sites: 11.844371795654297\n",
      "wyckoff_multiplier: 6.431109428405762\n",
      "frac_coords: 9.120634078979492\n",
      "space_group: 49.50722122192383\n",
      "lattice: 4.4804606437683105\n",
      "total: 119.50408935546875\n",
      "---------------------------------\n"
     ]
    },
    {
     "name": "stderr",
     "output_type": "stream",
     "text": [
      " 62%|██████▏   | 93/150 [05:42<03:30,  3.69s/it]"
     ]
    },
    {
     "name": "stdout",
     "output_type": "stream",
     "text": [
      "Epoch 93/150: Train Loss: 113.6769196458638\n",
      "---------------------------------\n",
      "Validation Loss: 113.96296824579653\n",
      "kl: 18.75564193725586\n",
      "element: 19.33769416809082\n",
      "wyckoff_sites: 12.302285194396973\n",
      "wyckoff_multiplier: 5.8039937019348145\n",
      "frac_coords: 9.286030769348145\n",
      "space_group: 48.89869689941406\n",
      "lattice: 5.948763847351074\n",
      "total: 120.33309936523438\n",
      "---------------------------------\n"
     ]
    },
    {
     "name": "stderr",
     "output_type": "stream",
     "text": [
      " 63%|██████▎   | 94/150 [05:46<03:26,  3.69s/it]"
     ]
    },
    {
     "name": "stdout",
     "output_type": "stream",
     "text": [
      "Epoch 94/150: Train Loss: 113.26337034479151\n",
      "---------------------------------\n",
      "Validation Loss: 113.47514840830927\n",
      "kl: 19.06404685974121\n",
      "element: 17.309494018554688\n",
      "wyckoff_sites: 11.705727577209473\n",
      "wyckoff_multiplier: 7.515224933624268\n",
      "frac_coords: 8.88974666595459\n",
      "space_group: 48.96982192993164\n",
      "lattice: 7.694174766540527\n",
      "total: 121.14823913574219\n",
      "---------------------------------\n"
     ]
    },
    {
     "name": "stderr",
     "output_type": "stream",
     "text": [
      " 63%|██████▎   | 95/150 [05:50<03:22,  3.68s/it]"
     ]
    },
    {
     "name": "stdout",
     "output_type": "stream",
     "text": [
      "Epoch 95/150: Train Loss: 113.29330962984433\n",
      "---------------------------------\n",
      "Validation Loss: 113.27874988058339\n",
      "kl: 19.18840789794922\n",
      "element: 16.920679092407227\n",
      "wyckoff_sites: 10.711432456970215\n",
      "wyckoff_multiplier: 6.293676376342773\n",
      "frac_coords: 8.136896133422852\n",
      "space_group: 49.43781280517578\n",
      "lattice: 6.096779823303223\n",
      "total: 116.78568267822266\n",
      "---------------------------------\n"
     ]
    },
    {
     "name": "stderr",
     "output_type": "stream",
     "text": [
      " 64%|██████▍   | 96/150 [05:53<03:18,  3.68s/it]"
     ]
    },
    {
     "name": "stdout",
     "output_type": "stream",
     "text": [
      "Epoch 96/150: Train Loss: 113.22352626405913\n",
      "---------------------------------\n",
      "Validation Loss: 113.42569168754245\n",
      "kl: 19.168743133544922\n",
      "element: 16.755456924438477\n",
      "wyckoff_sites: 12.718931198120117\n",
      "wyckoff_multiplier: 6.113373756408691\n",
      "frac_coords: 8.77493667602539\n",
      "space_group: 49.0190315246582\n",
      "lattice: 5.65390682220459\n",
      "total: 118.20437622070312\n",
      "---------------------------------\n"
     ]
    },
    {
     "name": "stderr",
     "output_type": "stream",
     "text": [
      " 65%|██████▍   | 97/150 [05:57<03:15,  3.69s/it]"
     ]
    },
    {
     "name": "stdout",
     "output_type": "stream",
     "text": [
      "Epoch 97/150: Train Loss: 113.12844829841201\n",
      "---------------------------------\n",
      "Validation Loss: 113.25764266304348\n",
      "kl: 19.06924819946289\n",
      "element: 15.66275405883789\n",
      "wyckoff_sites: 11.505763053894043\n",
      "wyckoff_multiplier: 6.482546329498291\n",
      "frac_coords: 7.881415843963623\n",
      "space_group: 48.91416549682617\n",
      "lattice: 9.467057228088379\n",
      "total: 118.98294830322266\n",
      "---------------------------------\n"
     ]
    },
    {
     "name": "stderr",
     "output_type": "stream",
     "text": [
      " 65%|██████▌   | 98/150 [06:01<03:11,  3.69s/it]"
     ]
    },
    {
     "name": "stdout",
     "output_type": "stream",
     "text": [
      "Epoch 98/150: Train Loss: 112.91052110794142\n",
      "---------------------------------\n",
      "Validation Loss: 113.16351351530656\n",
      "kl: 20.14039421081543\n",
      "element: 16.20638084411621\n",
      "wyckoff_sites: 11.376104354858398\n",
      "wyckoff_multiplier: 6.4009809494018555\n",
      "frac_coords: 8.099855422973633\n",
      "space_group: 49.45087814331055\n",
      "lattice: 9.648327827453613\n",
      "total: 121.32292938232422\n",
      "---------------------------------\n"
     ]
    },
    {
     "name": "stderr",
     "output_type": "stream",
     "text": [
      " 66%|██████▌   | 99/150 [06:04<03:08,  3.69s/it]"
     ]
    },
    {
     "name": "stdout",
     "output_type": "stream",
     "text": [
      "Epoch 99/150: Train Loss: 113.19028082034858\n",
      "---------------------------------\n",
      "Validation Loss: 113.31253715183423\n",
      "kl: 18.906631469726562\n",
      "element: 18.018522262573242\n",
      "wyckoff_sites: 10.940437316894531\n",
      "wyckoff_multiplier: 6.1181721687316895\n",
      "frac_coords: 9.034107208251953\n",
      "space_group: 48.96821594238281\n",
      "lattice: 9.462642669677734\n",
      "total: 121.44873046875\n",
      "---------------------------------\n"
     ]
    },
    {
     "name": "stderr",
     "output_type": "stream",
     "text": [
      " 67%|██████▋   | 100/150 [06:08<03:04,  3.69s/it]"
     ]
    },
    {
     "name": "stdout",
     "output_type": "stream",
     "text": [
      "Epoch 100/150: Train Loss: 113.17113788022196\n",
      "---------------------------------\n",
      "Validation Loss: 113.46185767132303\n",
      "kl: 19.695653915405273\n",
      "element: 17.0591983795166\n",
      "wyckoff_sites: 11.676496505737305\n",
      "wyckoff_multiplier: 6.194081783294678\n",
      "frac_coords: 8.283530235290527\n",
      "space_group: 48.918914794921875\n",
      "lattice: 4.707366943359375\n",
      "total: 116.53524780273438\n",
      "---------------------------------\n"
     ]
    },
    {
     "name": "stderr",
     "output_type": "stream",
     "text": [
      " 67%|██████▋   | 101/150 [06:12<03:00,  3.69s/it]"
     ]
    },
    {
     "name": "stdout",
     "output_type": "stream",
     "text": [
      "Epoch 101/150: Train Loss: 113.07849083510526\n",
      "---------------------------------\n",
      "Validation Loss: 113.51666591478431\n",
      "kl: 19.66521453857422\n",
      "element: 17.79702377319336\n",
      "wyckoff_sites: 11.323357582092285\n",
      "wyckoff_multiplier: 7.36547327041626\n",
      "frac_coords: 8.888837814331055\n",
      "space_group: 49.416542053222656\n",
      "lattice: 8.054746627807617\n",
      "total: 122.51119995117188\n",
      "---------------------------------\n"
     ]
    },
    {
     "name": "stderr",
     "output_type": "stream",
     "text": [
      " 68%|██████▊   | 102/150 [06:15<02:57,  3.69s/it]"
     ]
    },
    {
     "name": "stdout",
     "output_type": "stream",
     "text": [
      "Epoch 102/150: Train Loss: 113.11338054487858\n",
      "---------------------------------\n",
      "Validation Loss: 112.96665457020636\n",
      "kl: 19.552284240722656\n",
      "element: 17.6823787689209\n",
      "wyckoff_sites: 10.726247787475586\n",
      "wyckoff_multiplier: 6.693230152130127\n",
      "frac_coords: 8.335103988647461\n",
      "space_group: 49.59123229980469\n",
      "lattice: 3.347111463546753\n",
      "total: 115.92759704589844\n",
      "---------------------------------\n"
     ]
    },
    {
     "name": "stderr",
     "output_type": "stream",
     "text": [
      " 69%|██████▊   | 103/150 [06:19<02:53,  3.69s/it]"
     ]
    },
    {
     "name": "stdout",
     "output_type": "stream",
     "text": [
      "Epoch 103/150: Train Loss: 112.75540886489041\n",
      "---------------------------------\n",
      "Validation Loss: 112.8308397376019\n",
      "kl: 20.08370018005371\n",
      "element: 16.539539337158203\n",
      "wyckoff_sites: 13.352499008178711\n",
      "wyckoff_multiplier: 5.366787910461426\n",
      "frac_coords: 8.276195526123047\n",
      "space_group: 50.28781509399414\n",
      "lattice: 6.0384321212768555\n",
      "total: 119.9449691772461\n",
      "---------------------------------\n"
     ]
    },
    {
     "name": "stderr",
     "output_type": "stream",
     "text": [
      " 69%|██████▉   | 104/150 [06:23<02:49,  3.69s/it]"
     ]
    },
    {
     "name": "stdout",
     "output_type": "stream",
     "text": [
      "Epoch 104/150: Train Loss: 112.62019133920153\n",
      "---------------------------------\n",
      "Validation Loss: 112.51768626337466\n",
      "kl: 18.883981704711914\n",
      "element: 16.551010131835938\n",
      "wyckoff_sites: 11.67169189453125\n",
      "wyckoff_multiplier: 5.897323131561279\n",
      "frac_coords: 7.833629608154297\n",
      "space_group: 48.89992141723633\n",
      "lattice: 4.324868679046631\n",
      "total: 114.06242370605469\n",
      "---------------------------------\n"
     ]
    },
    {
     "name": "stderr",
     "output_type": "stream",
     "text": [
      " 70%|███████   | 105/150 [06:26<02:46,  3.69s/it]"
     ]
    },
    {
     "name": "stdout",
     "output_type": "stream",
     "text": [
      "Epoch 105/150: Train Loss: 112.85374217667604\n",
      "---------------------------------\n",
      "Validation Loss: 112.83647089419158\n",
      "kl: 20.115951538085938\n",
      "element: 17.270423889160156\n",
      "wyckoff_sites: 10.481151580810547\n",
      "wyckoff_multiplier: 6.4341912269592285\n",
      "frac_coords: 8.994215965270996\n",
      "space_group: 48.90459442138672\n",
      "lattice: 5.474781513214111\n",
      "total: 117.67530822753906\n",
      "---------------------------------\n"
     ]
    },
    {
     "name": "stderr",
     "output_type": "stream",
     "text": [
      " 71%|███████   | 106/150 [06:30<02:42,  3.69s/it]"
     ]
    },
    {
     "name": "stdout",
     "output_type": "stream",
     "text": [
      "Epoch 106/150: Train Loss: 112.90321102048375\n",
      "---------------------------------\n",
      "Validation Loss: 113.17524520210598\n",
      "kl: 18.665613174438477\n",
      "element: 17.475425720214844\n",
      "wyckoff_sites: 11.406782150268555\n",
      "wyckoff_multiplier: 6.579399108886719\n",
      "frac_coords: 8.662121772766113\n",
      "space_group: 48.90253448486328\n",
      "lattice: 8.220836639404297\n",
      "total: 119.9127197265625\n",
      "---------------------------------\n"
     ]
    },
    {
     "name": "stderr",
     "output_type": "stream",
     "text": [
      " 71%|███████▏  | 107/150 [06:34<02:38,  3.68s/it]"
     ]
    },
    {
     "name": "stdout",
     "output_type": "stream",
     "text": [
      "Epoch 107/150: Train Loss: 112.403471622561\n",
      "---------------------------------\n",
      "Validation Loss: 112.83957904318105\n",
      "kl: 18.752914428710938\n",
      "element: 15.9231595993042\n",
      "wyckoff_sites: 11.485880851745605\n",
      "wyckoff_multiplier: 6.090238571166992\n",
      "frac_coords: 7.886507511138916\n",
      "space_group: 48.98672103881836\n",
      "lattice: 6.052924156188965\n",
      "total: 115.1783447265625\n",
      "---------------------------------\n"
     ]
    },
    {
     "name": "stderr",
     "output_type": "stream",
     "text": [
      " 72%|███████▏  | 108/150 [06:37<02:34,  3.68s/it]"
     ]
    },
    {
     "name": "stdout",
     "output_type": "stream",
     "text": [
      "Epoch 108/150: Train Loss: 112.66278309187865\n",
      "---------------------------------\n",
      "Validation Loss: 113.55206431513247\n",
      "kl: 19.914255142211914\n",
      "element: 18.45317840576172\n",
      "wyckoff_sites: 12.00067138671875\n",
      "wyckoff_multiplier: 6.137877941131592\n",
      "frac_coords: 9.049427032470703\n",
      "space_group: 49.464088439941406\n",
      "lattice: 7.241292953491211\n",
      "total: 122.26079559326172\n",
      "---------------------------------\n"
     ]
    },
    {
     "name": "stderr",
     "output_type": "stream",
     "text": [
      " 73%|███████▎  | 109/150 [06:41<02:30,  3.68s/it]"
     ]
    },
    {
     "name": "stdout",
     "output_type": "stream",
     "text": [
      "Epoch 109/150: Train Loss: 112.37540435791016\n",
      "---------------------------------\n",
      "Validation Loss: 112.33433433201002\n",
      "kl: 19.714580535888672\n",
      "element: 16.871679306030273\n",
      "wyckoff_sites: 11.224241256713867\n",
      "wyckoff_multiplier: 6.7215423583984375\n",
      "frac_coords: 8.089312553405762\n",
      "space_group: 48.94464111328125\n",
      "lattice: 7.243373870849609\n",
      "total: 118.80937957763672\n",
      "---------------------------------\n"
     ]
    },
    {
     "name": "stderr",
     "output_type": "stream",
     "text": [
      " 73%|███████▎  | 110/150 [06:45<02:27,  3.68s/it]"
     ]
    },
    {
     "name": "stdout",
     "output_type": "stream",
     "text": [
      "Epoch 110/150: Train Loss: 112.54312712570717\n",
      "---------------------------------\n",
      "Validation Loss: 112.92907416302225\n",
      "kl: 19.245532989501953\n",
      "element: 16.21967124938965\n",
      "wyckoff_sites: 11.655400276184082\n",
      "wyckoff_multiplier: 6.888401508331299\n",
      "frac_coords: 8.105222702026367\n",
      "space_group: 49.369346618652344\n",
      "lattice: 8.744926452636719\n",
      "total: 120.22850799560547\n",
      "---------------------------------\n"
     ]
    },
    {
     "name": "stderr",
     "output_type": "stream",
     "text": [
      " 74%|███████▍  | 111/150 [06:49<02:23,  3.68s/it]"
     ]
    },
    {
     "name": "stdout",
     "output_type": "stream",
     "text": [
      "Epoch 111/150: Train Loss: 112.20241298581578\n",
      "---------------------------------\n",
      "Validation Loss: 112.54134203040081\n",
      "kl: 19.779067993164062\n",
      "element: 17.556833267211914\n",
      "wyckoff_sites: 11.71170711517334\n",
      "wyckoff_multiplier: 6.252252578735352\n",
      "frac_coords: 8.666707992553711\n",
      "space_group: 48.92576217651367\n",
      "lattice: 6.11072301864624\n",
      "total: 119.0030517578125\n",
      "---------------------------------\n"
     ]
    },
    {
     "name": "stderr",
     "output_type": "stream",
     "text": [
      " 75%|███████▍  | 112/150 [06:52<02:20,  3.69s/it]"
     ]
    },
    {
     "name": "stdout",
     "output_type": "stream",
     "text": [
      "Epoch 112/150: Train Loss: 112.44107356329857\n",
      "---------------------------------\n",
      "Validation Loss: 112.82963462497877\n",
      "kl: 19.73166847229004\n",
      "element: 17.954893112182617\n",
      "wyckoff_sites: 11.339695930480957\n",
      "wyckoff_multiplier: 6.643548011779785\n",
      "frac_coords: 8.864348411560059\n",
      "space_group: 49.36866760253906\n",
      "lattice: 7.517908096313477\n",
      "total: 121.42073059082031\n",
      "---------------------------------\n"
     ]
    },
    {
     "name": "stderr",
     "output_type": "stream",
     "text": [
      " 75%|███████▌  | 113/150 [06:56<02:16,  3.69s/it]"
     ]
    },
    {
     "name": "stdout",
     "output_type": "stream",
     "text": [
      "Epoch 113/150: Train Loss: 112.27836225537831\n",
      "---------------------------------\n",
      "Validation Loss: 112.7692230888035\n",
      "kl: 19.59259796142578\n",
      "element: 16.736806869506836\n",
      "wyckoff_sites: 11.37998104095459\n",
      "wyckoff_multiplier: 6.3862457275390625\n",
      "frac_coords: 7.8043437004089355\n",
      "space_group: 48.89883041381836\n",
      "lattice: 5.482525825500488\n",
      "total: 116.28134155273438\n",
      "---------------------------------\n"
     ]
    },
    {
     "name": "stderr",
     "output_type": "stream",
     "text": [
      " 76%|███████▌  | 114/150 [07:00<02:12,  3.69s/it]"
     ]
    },
    {
     "name": "stdout",
     "output_type": "stream",
     "text": [
      "Epoch 114/150: Train Loss: 112.14953838780596\n",
      "---------------------------------\n",
      "Validation Loss: 112.88075256347656\n",
      "kl: 18.638872146606445\n",
      "element: 17.226242065429688\n",
      "wyckoff_sites: 12.108181953430176\n",
      "wyckoff_multiplier: 5.298202991485596\n",
      "frac_coords: 7.891073226928711\n",
      "space_group: 49.27330780029297\n",
      "lattice: 6.71988582611084\n",
      "total: 117.15576934814453\n",
      "---------------------------------\n"
     ]
    },
    {
     "name": "stderr",
     "output_type": "stream",
     "text": [
      " 77%|███████▋  | 115/150 [07:03<02:08,  3.69s/it]"
     ]
    },
    {
     "name": "stdout",
     "output_type": "stream",
     "text": [
      "Epoch 115/150: Train Loss: 112.17021930863704\n",
      "---------------------------------\n",
      "Validation Loss: 112.95038339366083\n",
      "kl: 19.906982421875\n",
      "element: 16.135618209838867\n",
      "wyckoff_sites: 11.397666931152344\n",
      "wyckoff_multiplier: 6.220364093780518\n",
      "frac_coords: 7.899958610534668\n",
      "space_group: 48.898372650146484\n",
      "lattice: 6.77968168258667\n",
      "total: 117.2386474609375\n",
      "---------------------------------\n"
     ]
    },
    {
     "name": "stderr",
     "output_type": "stream",
     "text": [
      " 77%|███████▋  | 116/150 [07:07<02:05,  3.68s/it]"
     ]
    },
    {
     "name": "stdout",
     "output_type": "stream",
     "text": [
      "Epoch 116/150: Train Loss: 112.03644730892087\n",
      "---------------------------------\n",
      "Validation Loss: 112.36267753269361\n",
      "kl: 19.657421112060547\n",
      "element: 16.100004196166992\n",
      "wyckoff_sites: 12.280451774597168\n",
      "wyckoff_multiplier: 6.634556293487549\n",
      "frac_coords: 8.120116233825684\n",
      "space_group: 49.07966995239258\n",
      "lattice: 5.041076183319092\n",
      "total: 116.91329956054688\n",
      "---------------------------------\n"
     ]
    },
    {
     "name": "stderr",
     "output_type": "stream",
     "text": [
      " 78%|███████▊  | 117/150 [07:11<02:01,  3.68s/it]"
     ]
    },
    {
     "name": "stdout",
     "output_type": "stream",
     "text": [
      "Epoch 117/150: Train Loss: 112.24919658341432\n",
      "---------------------------------\n",
      "Validation Loss: 111.98231871231742\n",
      "kl: 19.05841064453125\n",
      "element: 17.14499855041504\n",
      "wyckoff_sites: 11.058497428894043\n",
      "wyckoff_multiplier: 6.197145462036133\n",
      "frac_coords: 8.633933067321777\n",
      "space_group: 49.546451568603516\n",
      "lattice: 8.031091690063477\n",
      "total: 119.67052459716797\n",
      "---------------------------------\n"
     ]
    },
    {
     "name": "stderr",
     "output_type": "stream",
     "text": [
      " 79%|███████▊  | 118/150 [07:14<01:57,  3.68s/it]"
     ]
    },
    {
     "name": "stdout",
     "output_type": "stream",
     "text": [
      "Epoch 118/150: Train Loss: 112.24002590085485\n",
      "---------------------------------\n",
      "Validation Loss: 111.95263041620669\n",
      "kl: 19.122486114501953\n",
      "element: 16.456371307373047\n",
      "wyckoff_sites: 11.75327205657959\n",
      "wyckoff_multiplier: 5.74638557434082\n",
      "frac_coords: 8.072426795959473\n",
      "space_group: 49.19174575805664\n",
      "lattice: 5.093051910400391\n",
      "total: 115.43573760986328\n",
      "---------------------------------\n"
     ]
    },
    {
     "name": "stderr",
     "output_type": "stream",
     "text": [
      " 79%|███████▉  | 119/150 [07:18<01:54,  3.68s/it]"
     ]
    },
    {
     "name": "stdout",
     "output_type": "stream",
     "text": [
      "Epoch 119/150: Train Loss: 112.168840417721\n",
      "---------------------------------\n",
      "Validation Loss: 113.13865296737008\n",
      "kl: 20.07715606689453\n",
      "element: 16.084016799926758\n",
      "wyckoff_sites: 12.37912368774414\n",
      "wyckoff_multiplier: 5.58003044128418\n",
      "frac_coords: 7.730493068695068\n",
      "space_group: 49.431400299072266\n",
      "lattice: 3.1829209327697754\n",
      "total: 114.46514892578125\n",
      "---------------------------------\n"
     ]
    },
    {
     "name": "stderr",
     "output_type": "stream",
     "text": [
      " 80%|████████  | 120/150 [07:22<01:50,  3.69s/it]"
     ]
    },
    {
     "name": "stdout",
     "output_type": "stream",
     "text": [
      "Epoch 120/150: Train Loss: 112.08326717433084\n",
      "---------------------------------\n",
      "Validation Loss: 113.09270842179008\n",
      "kl: 19.719890594482422\n",
      "element: 16.869922637939453\n",
      "wyckoff_sites: 11.734060287475586\n",
      "wyckoff_multiplier: 6.100954055786133\n",
      "frac_coords: 8.181699752807617\n",
      "space_group: 48.91297149658203\n",
      "lattice: 5.144035816192627\n",
      "total: 116.66353607177734\n",
      "---------------------------------\n"
     ]
    },
    {
     "name": "stderr",
     "output_type": "stream",
     "text": [
      " 81%|████████  | 121/150 [07:25<01:46,  3.69s/it]"
     ]
    },
    {
     "name": "stdout",
     "output_type": "stream",
     "text": [
      "Epoch 121/150: Train Loss: 111.91684546259236\n",
      "---------------------------------\n",
      "Validation Loss: 112.524111872134\n",
      "kl: 20.34834098815918\n",
      "element: 16.439556121826172\n",
      "wyckoff_sites: 11.511909484863281\n",
      "wyckoff_multiplier: 7.310232162475586\n",
      "frac_coords: 7.895849704742432\n",
      "space_group: 49.4564094543457\n",
      "lattice: 4.277974605560303\n",
      "total: 117.24028015136719\n",
      "---------------------------------\n"
     ]
    },
    {
     "name": "stderr",
     "output_type": "stream",
     "text": [
      " 81%|████████▏ | 122/150 [07:29<01:43,  3.69s/it]"
     ]
    },
    {
     "name": "stdout",
     "output_type": "stream",
     "text": [
      "Epoch 122/150: Train Loss: 112.14092574096078\n",
      "---------------------------------\n",
      "Validation Loss: 113.07887931492017\n",
      "kl: 20.11387062072754\n",
      "element: 15.795681953430176\n",
      "wyckoff_sites: 11.964496612548828\n",
      "wyckoff_multiplier: 5.873483180999756\n",
      "frac_coords: 8.025169372558594\n",
      "space_group: 48.89762878417969\n",
      "lattice: 3.8584351539611816\n",
      "total: 114.52877044677734\n",
      "---------------------------------\n"
     ]
    },
    {
     "name": "stderr",
     "output_type": "stream",
     "text": [
      " 82%|████████▏ | 123/150 [07:33<01:39,  3.69s/it]"
     ]
    },
    {
     "name": "stdout",
     "output_type": "stream",
     "text": [
      "Epoch 123/150: Train Loss: 112.1626624873119\n",
      "---------------------------------\n",
      "Validation Loss: 112.34009916886039\n",
      "kl: 20.982027053833008\n",
      "element: 16.667749404907227\n",
      "wyckoff_sites: 12.441688537597656\n",
      "wyckoff_multiplier: 6.3040361404418945\n",
      "frac_coords: 8.216055870056152\n",
      "space_group: 50.00885009765625\n",
      "lattice: 7.026766777038574\n",
      "total: 121.64717102050781\n",
      "---------------------------------\n"
     ]
    },
    {
     "name": "stderr",
     "output_type": "stream",
     "text": [
      " 83%|████████▎ | 124/150 [07:36<01:35,  3.69s/it]"
     ]
    },
    {
     "name": "stdout",
     "output_type": "stream",
     "text": [
      "Epoch 124/150: Train Loss: 111.80476837909868\n",
      "---------------------------------\n",
      "Validation Loss: 112.34303084663723\n",
      "kl: 20.084232330322266\n",
      "element: 15.12738037109375\n",
      "wyckoff_sites: 10.732595443725586\n",
      "wyckoff_multiplier: 6.875875473022461\n",
      "frac_coords: 7.6395182609558105\n",
      "space_group: 49.23427963256836\n",
      "lattice: 7.467190742492676\n",
      "total: 117.16107940673828\n",
      "---------------------------------\n"
     ]
    },
    {
     "name": "stderr",
     "output_type": "stream",
     "text": [
      " 83%|████████▎ | 125/150 [07:40<01:32,  3.69s/it]"
     ]
    },
    {
     "name": "stdout",
     "output_type": "stream",
     "text": [
      "Epoch 125/150: Train Loss: 111.90379589062019\n",
      "---------------------------------\n",
      "Validation Loss: 112.5443639340608\n",
      "kl: 19.47631072998047\n",
      "element: 15.926054000854492\n",
      "wyckoff_sites: 11.844165802001953\n",
      "wyckoff_multiplier: 5.672322750091553\n",
      "frac_coords: 7.7483744621276855\n",
      "space_group: 48.90727615356445\n",
      "lattice: 7.358636856079102\n",
      "total: 116.93314361572266\n",
      "---------------------------------\n"
     ]
    },
    {
     "name": "stderr",
     "output_type": "stream",
     "text": [
      " 84%|████████▍ | 126/150 [07:44<01:28,  3.68s/it]"
     ]
    },
    {
     "name": "stdout",
     "output_type": "stream",
     "text": [
      "Epoch 126/150: Train Loss: 111.66308447175425\n",
      "---------------------------------\n",
      "Validation Loss: 112.68802974535072\n",
      "kl: 20.64838981628418\n",
      "element: 16.409290313720703\n",
      "wyckoff_sites: 10.69546127319336\n",
      "wyckoff_multiplier: 6.026482582092285\n",
      "frac_coords: 8.006704330444336\n",
      "space_group: 48.98843765258789\n",
      "lattice: 4.662343502044678\n",
      "total: 115.4371109008789\n",
      "---------------------------------\n"
     ]
    },
    {
     "name": "stderr",
     "output_type": "stream",
     "text": [
      " 85%|████████▍ | 127/150 [07:48<01:24,  3.69s/it]"
     ]
    },
    {
     "name": "stdout",
     "output_type": "stream",
     "text": [
      "Epoch 127/150: Train Loss: 112.13974450022128\n",
      "---------------------------------\n",
      "Validation Loss: 113.08849367888078\n",
      "kl: 19.159404754638672\n",
      "element: 16.163061141967773\n",
      "wyckoff_sites: 11.12330436706543\n",
      "wyckoff_multiplier: 5.753291130065918\n",
      "frac_coords: 8.286859512329102\n",
      "space_group: 49.45085525512695\n",
      "lattice: 4.267402648925781\n",
      "total: 114.20417785644531\n",
      "---------------------------------\n"
     ]
    },
    {
     "name": "stderr",
     "output_type": "stream",
     "text": [
      " 85%|████████▌ | 128/150 [07:51<01:21,  3.69s/it]"
     ]
    },
    {
     "name": "stdout",
     "output_type": "stream",
     "text": [
      "Epoch 128/150: Train Loss: 111.60486046551483\n",
      "---------------------------------\n",
      "Validation Loss: 111.496163741402\n",
      "kl: 19.023176193237305\n",
      "element: 17.71603775024414\n",
      "wyckoff_sites: 11.784648895263672\n",
      "wyckoff_multiplier: 5.626505374908447\n",
      "frac_coords: 8.106776237487793\n",
      "space_group: 49.92637634277344\n",
      "lattice: 2.7684078216552734\n",
      "total: 114.9519271850586\n",
      "---------------------------------\n"
     ]
    },
    {
     "name": "stderr",
     "output_type": "stream",
     "text": [
      " 86%|████████▌ | 129/150 [07:55<01:17,  3.69s/it]"
     ]
    },
    {
     "name": "stdout",
     "output_type": "stream",
     "text": [
      "Epoch 129/150: Train Loss: 111.44421112361212\n",
      "---------------------------------\n",
      "Validation Loss: 113.06929812224016\n",
      "kl: 19.01888656616211\n",
      "element: 16.584117889404297\n",
      "wyckoff_sites: 11.071852684020996\n",
      "wyckoff_multiplier: 5.960718631744385\n",
      "frac_coords: 8.405839920043945\n",
      "space_group: 49.91101837158203\n",
      "lattice: 4.017409324645996\n",
      "total: 114.96984100341797\n",
      "---------------------------------\n"
     ]
    },
    {
     "name": "stderr",
     "output_type": "stream",
     "text": [
      " 87%|████████▋ | 130/150 [07:59<01:13,  3.69s/it]"
     ]
    },
    {
     "name": "stdout",
     "output_type": "stream",
     "text": [
      "Epoch 130/150: Train Loss: 111.71929465608643\n",
      "---------------------------------\n",
      "Validation Loss: 112.66620204759681\n",
      "kl: 20.705352783203125\n",
      "element: 16.755117416381836\n",
      "wyckoff_sites: 11.854020118713379\n",
      "wyckoff_multiplier: 6.020769119262695\n",
      "frac_coords: 8.223930358886719\n",
      "space_group: 49.35773849487305\n",
      "lattice: 7.0493316650390625\n",
      "total: 119.96625518798828\n",
      "---------------------------------\n"
     ]
    },
    {
     "name": "stderr",
     "output_type": "stream",
     "text": [
      " 87%|████████▋ | 131/150 [08:02<01:10,  3.69s/it]"
     ]
    },
    {
     "name": "stdout",
     "output_type": "stream",
     "text": [
      "Epoch 131/150: Train Loss: 111.8097816429702\n",
      "---------------------------------\n",
      "Validation Loss: 111.51219774329144\n",
      "kl: 19.228242874145508\n",
      "element: 16.374662399291992\n",
      "wyckoff_sites: 11.502391815185547\n",
      "wyckoff_multiplier: 5.093444347381592\n",
      "frac_coords: 7.917868137359619\n",
      "space_group: 49.440364837646484\n",
      "lattice: 8.068487167358398\n",
      "total: 117.62545776367188\n",
      "---------------------------------\n"
     ]
    },
    {
     "name": "stderr",
     "output_type": "stream",
     "text": [
      " 88%|████████▊ | 132/150 [08:06<01:06,  3.69s/it]"
     ]
    },
    {
     "name": "stdout",
     "output_type": "stream",
     "text": [
      "Epoch 132/150: Train Loss: 111.41374777807978\n",
      "---------------------------------\n",
      "Validation Loss: 112.35457511570142\n",
      "kl: 19.896350860595703\n",
      "element: 16.5117244720459\n",
      "wyckoff_sites: 10.981647491455078\n",
      "wyckoff_multiplier: 5.972644329071045\n",
      "frac_coords: 8.139089584350586\n",
      "space_group: 48.97926712036133\n",
      "lattice: 10.067233085632324\n",
      "total: 120.54795837402344\n",
      "---------------------------------\n"
     ]
    },
    {
     "name": "stderr",
     "output_type": "stream",
     "text": [
      " 89%|████████▊ | 133/150 [08:10<01:02,  3.69s/it]"
     ]
    },
    {
     "name": "stdout",
     "output_type": "stream",
     "text": [
      "Epoch 133/150: Train Loss: 111.69688701159848\n",
      "---------------------------------\n",
      "Validation Loss: 112.06313688858695\n",
      "kl: 20.39242935180664\n",
      "element: 16.007387161254883\n",
      "wyckoff_sites: 12.127527236938477\n",
      "wyckoff_multiplier: 6.819464683532715\n",
      "frac_coords: 8.265721321105957\n",
      "space_group: 48.898807525634766\n",
      "lattice: 6.950772285461426\n",
      "total: 119.46211242675781\n",
      "---------------------------------\n"
     ]
    },
    {
     "name": "stderr",
     "output_type": "stream",
     "text": [
      " 89%|████████▉ | 134/150 [08:13<00:59,  3.69s/it]"
     ]
    },
    {
     "name": "stdout",
     "output_type": "stream",
     "text": [
      "Epoch 134/150: Train Loss: 111.54227165635584\n",
      "---------------------------------\n",
      "Validation Loss: 112.22551793637483\n",
      "kl: 19.951753616333008\n",
      "element: 15.75320053100586\n",
      "wyckoff_sites: 12.36500358581543\n",
      "wyckoff_multiplier: 5.12083625793457\n",
      "frac_coords: 7.985838413238525\n",
      "space_group: 48.91722869873047\n",
      "lattice: 6.606029510498047\n",
      "total: 116.69989013671875\n",
      "---------------------------------\n"
     ]
    },
    {
     "name": "stderr",
     "output_type": "stream",
     "text": [
      " 90%|█████████ | 135/150 [08:17<00:55,  3.69s/it]"
     ]
    },
    {
     "name": "stdout",
     "output_type": "stream",
     "text": [
      "Epoch 135/150: Train Loss: 111.62012842488406\n",
      "---------------------------------\n",
      "Validation Loss: 112.12020343282948\n",
      "kl: 20.219388961791992\n",
      "element: 16.138843536376953\n",
      "wyckoff_sites: 12.092172622680664\n",
      "wyckoff_multiplier: 5.497190475463867\n",
      "frac_coords: 8.211599349975586\n",
      "space_group: 49.11813735961914\n",
      "lattice: 6.1826372146606445\n",
      "total: 117.45996856689453\n",
      "---------------------------------\n"
     ]
    },
    {
     "name": "stderr",
     "output_type": "stream",
     "text": [
      " 91%|█████████ | 136/150 [08:21<00:51,  3.69s/it]"
     ]
    },
    {
     "name": "stdout",
     "output_type": "stream",
     "text": [
      "Epoch 136/150: Train Loss: 111.39204451838151\n",
      "---------------------------------\n",
      "Validation Loss: 111.62130471934442\n",
      "kl: 20.484975814819336\n",
      "element: 16.029470443725586\n",
      "wyckoff_sites: 11.170233726501465\n",
      "wyckoff_multiplier: 6.103928089141846\n",
      "frac_coords: 8.138123512268066\n",
      "space_group: 49.020301818847656\n",
      "lattice: 4.694479465484619\n",
      "total: 115.64151763916016\n",
      "---------------------------------\n"
     ]
    },
    {
     "name": "stderr",
     "output_type": "stream",
     "text": [
      " 91%|█████████▏| 137/150 [08:24<00:47,  3.69s/it]"
     ]
    },
    {
     "name": "stdout",
     "output_type": "stream",
     "text": [
      "Epoch 137/150: Train Loss: 111.1052182578101\n",
      "---------------------------------\n",
      "Validation Loss: 111.33195926832116\n",
      "kl: 20.40241813659668\n",
      "element: 17.18434715270996\n",
      "wyckoff_sites: 11.419114112854004\n",
      "wyckoff_multiplier: 5.9852294921875\n",
      "frac_coords: 8.34329605102539\n",
      "space_group: 48.902950286865234\n",
      "lattice: 4.765018939971924\n",
      "total: 117.00238037109375\n",
      "---------------------------------\n"
     ]
    },
    {
     "name": "stderr",
     "output_type": "stream",
     "text": [
      " 92%|█████████▏| 138/150 [08:28<00:44,  3.69s/it]"
     ]
    },
    {
     "name": "stdout",
     "output_type": "stream",
     "text": [
      "Epoch 138/150: Train Loss: 111.34223186323796\n",
      "---------------------------------\n",
      "Validation Loss: 111.93065643310547\n",
      "kl: 20.46639060974121\n",
      "element: 15.865102767944336\n",
      "wyckoff_sites: 12.72340202331543\n",
      "wyckoff_multiplier: 6.5620880126953125\n",
      "frac_coords: 7.841771125793457\n",
      "space_group: 49.40472412109375\n",
      "lattice: 4.804771423339844\n",
      "total: 117.66825866699219\n",
      "---------------------------------\n"
     ]
    },
    {
     "name": "stderr",
     "output_type": "stream",
     "text": [
      " 93%|█████████▎| 139/150 [08:32<00:40,  3.69s/it]"
     ]
    },
    {
     "name": "stdout",
     "output_type": "stream",
     "text": [
      "Epoch 139/150: Train Loss: 111.43202453763614\n",
      "---------------------------------\n",
      "Validation Loss: 111.36458454961362\n",
      "kl: 21.315570831298828\n",
      "element: 16.393831253051758\n",
      "wyckoff_sites: 13.180448532104492\n",
      "wyckoff_multiplier: 5.1071271896362305\n",
      "frac_coords: 8.672806739807129\n",
      "space_group: 49.34867477416992\n",
      "lattice: 4.930938720703125\n",
      "total: 118.94939422607422\n",
      "---------------------------------\n"
     ]
    },
    {
     "name": "stderr",
     "output_type": "stream",
     "text": [
      " 93%|█████████▎| 140/150 [08:35<00:36,  3.69s/it]"
     ]
    },
    {
     "name": "stdout",
     "output_type": "stream",
     "text": [
      "Epoch 140/150: Train Loss: 111.52531699946361\n",
      "---------------------------------\n",
      "Validation Loss: 112.04089189612347\n",
      "kl: 20.8448429107666\n",
      "element: 16.436857223510742\n",
      "wyckoff_sites: 10.717923164367676\n",
      "wyckoff_multiplier: 4.904608249664307\n",
      "frac_coords: 7.847905158996582\n",
      "space_group: 48.94969940185547\n",
      "lattice: 6.108870506286621\n",
      "total: 115.81071472167969\n",
      "---------------------------------\n"
     ]
    },
    {
     "name": "stderr",
     "output_type": "stream",
     "text": [
      " 94%|█████████▍| 141/150 [08:39<00:33,  3.69s/it]"
     ]
    },
    {
     "name": "stdout",
     "output_type": "stream",
     "text": [
      "Epoch 141/150: Train Loss: 111.5929460948324\n",
      "---------------------------------\n",
      "Validation Loss: 112.54907027534817\n",
      "kl: 19.729270935058594\n",
      "element: 15.681446075439453\n",
      "wyckoff_sites: 11.534177780151367\n",
      "wyckoff_multiplier: 5.326730728149414\n",
      "frac_coords: 7.952471733093262\n",
      "space_group: 49.45158004760742\n",
      "lattice: 5.069379806518555\n",
      "total: 114.74506378173828\n",
      "---------------------------------\n"
     ]
    },
    {
     "name": "stderr",
     "output_type": "stream",
     "text": [
      " 95%|█████████▍| 142/150 [08:43<00:29,  3.69s/it]"
     ]
    },
    {
     "name": "stdout",
     "output_type": "stream",
     "text": [
      "Epoch 142/150: Train Loss: 111.1619087181655\n",
      "---------------------------------\n",
      "Validation Loss: 112.10749352496603\n",
      "kl: 19.4041748046875\n",
      "element: 16.016748428344727\n",
      "wyckoff_sites: 11.434246063232422\n",
      "wyckoff_multiplier: 6.063234329223633\n",
      "frac_coords: 7.912656784057617\n",
      "space_group: 49.29608917236328\n",
      "lattice: 9.252842903137207\n",
      "total: 119.37998962402344\n",
      "---------------------------------\n"
     ]
    },
    {
     "name": "stderr",
     "output_type": "stream",
     "text": [
      " 95%|█████████▌| 143/150 [08:47<00:25,  3.69s/it]"
     ]
    },
    {
     "name": "stdout",
     "output_type": "stream",
     "text": [
      "Epoch 143/150: Train Loss: 111.01377101954569\n",
      "---------------------------------\n",
      "Validation Loss: 112.2098508088485\n",
      "kl: 19.75231170654297\n",
      "element: 17.031959533691406\n",
      "wyckoff_sites: 10.58011531829834\n",
      "wyckoff_multiplier: 6.166532039642334\n",
      "frac_coords: 8.370345115661621\n",
      "space_group: 49.72935485839844\n",
      "lattice: 7.741207122802734\n",
      "total: 119.371826171875\n",
      "---------------------------------\n"
     ]
    },
    {
     "name": "stderr",
     "output_type": "stream",
     "text": [
      " 96%|█████████▌| 144/150 [08:50<00:22,  3.69s/it]"
     ]
    },
    {
     "name": "stdout",
     "output_type": "stream",
     "text": [
      "Epoch 144/150: Train Loss: 111.00112287399217\n",
      "---------------------------------\n",
      "Validation Loss: 112.4386447408925\n",
      "kl: 20.757917404174805\n",
      "element: 15.9124116897583\n",
      "wyckoff_sites: 11.53051471710205\n",
      "wyckoff_multiplier: 6.683715343475342\n",
      "frac_coords: 8.23056411743164\n",
      "space_group: 49.47789764404297\n",
      "lattice: 9.1046781539917\n",
      "total: 121.69770050048828\n",
      "---------------------------------\n"
     ]
    },
    {
     "name": "stderr",
     "output_type": "stream",
     "text": [
      " 97%|█████████▋| 145/150 [08:54<00:18,  3.69s/it]"
     ]
    },
    {
     "name": "stdout",
     "output_type": "stream",
     "text": [
      "Epoch 145/150: Train Loss: 111.22485889002607\n",
      "---------------------------------\n",
      "Validation Loss: 111.39654076617697\n",
      "kl: 20.75314712524414\n",
      "element: 16.75497817993164\n",
      "wyckoff_sites: 11.41183853149414\n",
      "wyckoff_multiplier: 6.311525821685791\n",
      "frac_coords: 7.926762104034424\n",
      "space_group: 49.85269546508789\n",
      "lattice: 9.96172046661377\n",
      "total: 122.97267150878906\n",
      "---------------------------------\n"
     ]
    },
    {
     "name": "stderr",
     "output_type": "stream",
     "text": [
      " 97%|█████████▋| 146/150 [08:58<00:14,  3.69s/it]"
     ]
    },
    {
     "name": "stdout",
     "output_type": "stream",
     "text": [
      "Epoch 146/150: Train Loss: 111.0130281119511\n",
      "---------------------------------\n",
      "Validation Loss: 111.7575514420219\n",
      "kl: 20.28598976135254\n",
      "element: 15.290702819824219\n",
      "wyckoff_sites: 11.30135440826416\n",
      "wyckoff_multiplier: 6.457983016967773\n",
      "frac_coords: 7.979002475738525\n",
      "space_group: 49.43601608276367\n",
      "lattice: 4.017360687255859\n",
      "total: 114.7684097290039\n",
      "---------------------------------\n"
     ]
    },
    {
     "name": "stderr",
     "output_type": "stream",
     "text": [
      " 98%|█████████▊| 147/150 [09:01<00:11,  3.69s/it]"
     ]
    },
    {
     "name": "stdout",
     "output_type": "stream",
     "text": [
      "Epoch 147/150: Train Loss: 110.95000431455415\n",
      "---------------------------------\n",
      "Validation Loss: 111.37261830205503\n",
      "kl: 19.67108154296875\n",
      "element: 15.620733261108398\n",
      "wyckoff_sites: 11.570292472839355\n",
      "wyckoff_multiplier: 6.512705326080322\n",
      "frac_coords: 7.757869243621826\n",
      "space_group: 48.90668487548828\n",
      "lattice: 6.089125633239746\n",
      "total: 116.12848663330078\n",
      "---------------------------------\n"
     ]
    },
    {
     "name": "stderr",
     "output_type": "stream",
     "text": [
      " 99%|█████████▊| 148/150 [09:05<00:07,  3.69s/it]"
     ]
    },
    {
     "name": "stdout",
     "output_type": "stream",
     "text": [
      "Epoch 148/150: Train Loss: 111.09070008376548\n",
      "---------------------------------\n",
      "Validation Loss: 111.15367425006369\n",
      "kl: 20.423254013061523\n",
      "element: 15.336021423339844\n",
      "wyckoff_sites: 11.75015926361084\n",
      "wyckoff_multiplier: 4.881092548370361\n",
      "frac_coords: 7.62337064743042\n",
      "space_group: 49.0028076171875\n",
      "lattice: 5.005838394165039\n",
      "total: 114.02254486083984\n",
      "---------------------------------\n"
     ]
    },
    {
     "name": "stderr",
     "output_type": "stream",
     "text": [
      " 99%|█████████▉| 149/150 [09:09<00:03,  3.68s/it]"
     ]
    },
    {
     "name": "stdout",
     "output_type": "stream",
     "text": [
      "Epoch 149/150: Train Loss: 111.13545193225879\n",
      "---------------------------------\n",
      "Validation Loss: 111.38934923254925\n",
      "kl: 20.606569290161133\n",
      "element: 14.869420051574707\n",
      "wyckoff_sites: 11.685823440551758\n",
      "wyckoff_multiplier: 6.223610877990723\n",
      "frac_coords: 7.41112756729126\n",
      "space_group: 48.9057731628418\n",
      "lattice: 3.0069680213928223\n",
      "total: 112.70928955078125\n",
      "---------------------------------\n"
     ]
    },
    {
     "name": "stderr",
     "output_type": "stream",
     "text": [
      "100%|██████████| 150/150 [09:12<00:00,  3.69s/it]"
     ]
    },
    {
     "name": "stdout",
     "output_type": "stream",
     "text": [
      "Epoch 150/150: Train Loss: 110.9598797201523\n",
      "---------------------------------\n",
      "Validation Loss: 112.42930238143258\n",
      "kl: 20.729270935058594\n",
      "element: 16.21412467956543\n",
      "wyckoff_sites: 11.797685623168945\n",
      "wyckoff_multiplier: 5.346144676208496\n",
      "frac_coords: 8.183490753173828\n",
      "space_group: 48.898651123046875\n",
      "lattice: 3.223127603530884\n",
      "total: 114.39250183105469\n",
      "---------------------------------\n"
     ]
    },
    {
     "name": "stderr",
     "output_type": "stream",
     "text": [
      "\n"
     ]
    }
   ],
   "source": [
    "# Training loop\n",
    "device = torch.device('cuda' if torch.cuda.is_available() else 'cpu')\n",
    "log_step = 1\n",
    "epochs = 150\n",
    "lr = 0.001\n",
    "# Initialize the VAE\n",
    "feature_dim = X.shape[1]\n",
    "wyckoff_dim = X.shape[2]\n",
    "crystal_dim = Y.shape[1]\n",
    "vae = VAE(feature_dim, wyckoff_dim, crystal_dim,verbose=False,kernel=kernel,stride=stride)\n",
    "vae.to(device)\n",
    "\n",
    "optimizer = Adam(vae.parameters(), lr=lr)\n",
    "\n",
    "# Initialize the train and validation loss\n",
    "train_loss_dict = {key: [] for key in coeffs}\n",
    "train_loss_dict['total'] = []\n",
    "\n",
    "val_loss_dict = {key: [] for key in coeffs}\n",
    "val_loss_dict['total'] = []\n",
    "\n",
    "for epoch in tqdm(range(epochs)):\n",
    "    vae.train()\n",
    "    train_loss = 0.0\n",
    "    for x_batch, y_batch in train_loader:  # Use both datasets if required\n",
    "        x_batch, y_batch = x_batch.to(device), y_batch.to(device)\n",
    "        optimizer.zero_grad()\n",
    "\n",
    "        # Forward pass\n",
    "        out = vae(x_batch, y_batch)\n",
    "        \n",
    "        # Compute loss\n",
    "        loss = vae_loss_function(out, x_batch, y_batch, coeffs)\n",
    "        # Backward pass\n",
    "        loss['total'].backward()\n",
    "        optimizer.step()\n",
    "\n",
    "        train_loss += loss['total'].item()\n",
    "    print(f\"Epoch {epoch + 1}/{epochs}: Train Loss: {train_loss / len(train_loader)}\")\n",
    "    # Save the train loss\n",
    "    for key in loss:\n",
    "        train_loss_dict[key].append(loss[key].item())\n",
    "    \n",
    "    # Validate and save model for each log step\n",
    "    if (epoch + 1) % log_step == 0:\n",
    "        vae.eval()\n",
    "        val_loss = 0.0\n",
    "        with torch.no_grad():\n",
    "            for x_val, y_val in val_loader:\n",
    "                x_val, y_val = x_val.to(device), y_val.to(device)\n",
    "                # Forward pass\n",
    "                out_val = vae(x_val, y_val)\n",
    "                \n",
    "                # Compute loss\n",
    "                loss_val = vae_loss_function(out_val, x_val, y_val,coeffs)\n",
    "                val_loss += loss_val['total'].item()\n",
    "\n",
    "        # Log epoch results\n",
    "        print('---------------------------------')\n",
    "        print(f\"Validation Loss: {val_loss / len(val_loader)}\")\n",
    "        # Print all losses\n",
    "        for key in loss_val:\n",
    "            print(f\"{key}: {loss_val[key]}\")\n",
    "        \n",
    "        # Save the validation loss\n",
    "        for key in loss_val:\n",
    "            val_loss_dict[key].append(loss_val[key].item())\n",
    "        print('---------------------------------')\n",
    "# Save the trained model"
   ]
  },
  {
   "cell_type": "code",
   "execution_count": null,
   "metadata": {},
   "outputs": [
    {
     "data": {
      "image/png": "[encoded data removed]",
      "text/plain": [
       "<Figure size 2000x1000 with 2 Axes>"
      ]
     },
     "metadata": {},
     "output_type": "display_data"
    }
   ],
   "source": [
    "## Plot all the losses as a function of the epoch\n",
    "fig, ax = plt.subplots(1,2,figsize=(20,10))\n",
    "font_size = 20\n",
    "Nbins = 20\n",
    "\n",
    "for key in train_loss_dict:\n",
    "    ax[0].plot(train_loss_dict[key],label=key)\n",
    "    val_epoch  = np.arange(0,len(val_loss_dict[key])*log_step,log_step)\n",
    "    ax[1].plot(val_epoch, val_loss_dict[key],label=key)\n",
    "\n",
    "ax[0].set_xlabel('Epoch',fontsize=font_size)\n",
    "ax[0].set_ylabel('Loss',fontsize=font_size)\n",
    "ax[0].set_title('Train Loss',fontsize=font_size)\n",
    "ax[0].tick_params(axis='both', which='major', labelsize=font_size)\n",
    "ax[0].tick_params(axis='both', which='minor', labelsize=font_size)\n",
    "ax[0].grid(True)\n",
    "ax[0].legend(fontsize=font_size,ncol=2)\n",
    "\n",
    "ax[1].set_xlabel('Epoch',fontsize=font_size)\n",
    "ax[1].set_ylabel('Loss',fontsize=font_size)\n",
    "ax[1].set_title('Validation Loss',fontsize=font_size)\n",
    "ax[1].tick_params(axis='both', which='major', labelsize=font_size)\n",
    "ax[1].tick_params(axis='both', which='minor', labelsize=font_size)\n",
    "ax[1].grid(True)\n",
    "#ax[1].legend(fontsize=font_size)\n"
   ]
  },
  {
   "cell_type": "code",
   "execution_count": null,
   "metadata": {},
   "outputs": [
    {
     "name": "stdout",
     "output_type": "stream",
     "text": [
      "X: torch.Size([1804, 180, 24])\n",
      "Y: torch.Size([1804, 236])\n",
      "kl: 0.011604021303355694\n",
      "element: 0.0084971459582448\n",
      "wyckoff_sites: 0.004843049682676792\n",
      "wyckoff_multiplier: 0.003110462101176381\n",
      "frac_coords: 0.0034983078949153423\n",
      "space_group: 0.027304932475090027\n",
      "lattice: 0.004012610763311386\n",
      "total: 0.06287053227424622\n",
      "X: (1804, 180, 24)\n",
      "Y: (1804, 236)\n",
      "VAE: (1804, 180, 24)\n",
      "VAE SG: (1804, 230)\n",
      "VAE Lattice: (1804, 6)\n"
     ]
    }
   ],
   "source": [
    "### Test the model on the test set and plot the results\n",
    "x_test = torch.tensor(x_test, dtype=torch.float32)\n",
    "y_test = torch.tensor(y_test, dtype=torch.float32)\n",
    "print('X:',x_test.shape)\n",
    "print('Y:',y_test.shape)\n",
    "out_test = vae(x_test, y_test)\n",
    "loss_test = vae_loss_function(out_test, x_test, y_test,coeffs)\n",
    "for key in loss_test:\n",
    "    # print mean loss\n",
    "    print(f\"{key}: {loss_test[key]/len(x_test)}\")\n",
    "\n",
    "\n",
    "x_test_plot = x_test.cpu().detach().numpy()\n",
    "y_test_plot = y_test.cpu().detach().numpy()\n",
    "vae_x = out_test['reconstructed_outputs'].cpu().detach().numpy()\n",
    "vae_sg = out_test['decoded_sg'].cpu().detach().numpy()\n",
    "vae_lattice = out_test['decoded_lattice'].cpu().detach().numpy()\n",
    "print('X:',x_test_plot.shape)\n",
    "print('Y:',y_test_plot.shape)\n",
    "print('VAE:',vae_x.shape)\n",
    "print('VAE SG:',vae_sg.shape)\n",
    "print('VAE Lattice:',vae_lattice.shape)\n",
    "\n",
    "\n",
    "# Inverse transform the data\n",
    "y_test_lattice = scaler_Y.inverse_transform(y_test_plot[:,:6])\n",
    "y_test_sg = y_test_plot[:,6:]\n",
    "vae_lattice = scaler_Y.inverse_transform(vae_lattice)\n"
   ]
  },
  {
   "cell_type": "code",
   "execution_count": null,
   "metadata": {},
   "outputs": [
    {
     "name": "stdout",
     "output_type": "stream",
     "text": [
      "(1804, 3) (1804, 3) (1804,)\n",
      "(1804, 3) (1804, 3) (1804,)\n"
     ]
    },
    {
     "data": {
      "image/png": "[encoded data removed]",
      "text/plain": [
       "<Figure size 1500x500 with 3 Axes>"
      ]
     },
     "metadata": {},
     "output_type": "display_data"
    }
   ],
   "source": [
    "abc_vae = vae_lattice[:, :3]\n",
    "angles_vae = vae_lattice[:, 3:]\n",
    "spacegroup_vae = np.argmax(vae_sg, axis=1)\n",
    "print(abc_vae.shape, angles_vae.shape, spacegroup_vae.shape)\n",
    "abc_test = y_test_lattice[:, :3]\n",
    "angles_test = y_test_lattice[:, 3:6]\n",
    "spacegroup_test = np.argmax(y_test_sg, axis=1)\n",
    "print(abc_test.shape, angles_test.shape, spacegroup_test.shape)\n",
    "# Plot the Crystal representation in three plots\n",
    "fig, ax = plt.subplots(1, 3, figsize=(15, 5),gridspec_kw={'wspace':0.4})\n",
    "font_size = 18\n",
    "shapes = ['.','^','s']\n",
    "colors = ['r','g','b']\n",
    "abc_labels = ['a','b','c']\n",
    "label_loc = [0,-0.5]\n",
    "angle_labels = [r'$\\alpha$',r'$\\beta$',r'$\\gamma$']\n",
    "for i in range(3):\n",
    "    mae = np.mean(np.abs(abc_test[:,i] - abc_vae[:,i]))\n",
    "    ax[0].plot(abc_test[:,i], abc_vae[:,i], marker=shapes[i], color=colors[i], linestyle='None', label=abc_labels[i]+f' (MAE: {mae:.2f})')\n",
    "    ax[0].set_xlabel('ICSD', fontsize=font_size)\n",
    "    ax[0].set_ylabel('VAE', fontsize=font_size)\n",
    "    ax[0].set_title('Lattice Parameters', fontsize=font_size)\n",
    "    ax[0].tick_params(axis='both', which='major', labelsize=font_size)\n",
    "    ax[0].tick_params(axis='both', which='minor', labelsize=font_size)\n",
    "    \n",
    "    ax[0].legend(fontsize=font_size,loc=label_loc)\n",
    "\n",
    "    mae = np.mean(np.abs(angles_test[:,i] - angles_vae[:,i]))\n",
    "    ax[1].plot(angles_test[:,i], angles_vae[:,i], marker=shapes[i], color=colors[i], linestyle='None', label=angle_labels[i]+f' (MAE: {mae:.2f})')\n",
    "    ax[1].set_xlabel('ICSD', fontsize=font_size)\n",
    "    ax[1].set_ylabel('VAE', fontsize=font_size)\n",
    "    ax[1].set_title('Lattice Angles', fontsize=font_size)\n",
    "    ax[1].tick_params(axis='both', which='major', labelsize=font_size)\n",
    "    ax[1].tick_params(axis='both', which='minor', labelsize=font_size)\n",
    "    ax[1].legend(fontsize=font_size,loc=label_loc)\n",
    "\n",
    "mae = np.mean(np.abs(spacegroup_test - spacegroup_vae))\n",
    "ax[2].plot(spacegroup_test, spacegroup_vae, marker='.', color='r', linestyle='None')\n",
    "ax[2].set_xlabel('ICSD', fontsize=font_size)\n",
    "ax[2].set_ylabel('VAE', fontsize=font_size)\n",
    "ax[2].set_title('Spacegroup'+f' (MAE: {mae:.0f})', fontsize=font_size)\n",
    "ax[2].tick_params(axis='both', which='major', labelsize=font_size)\n"
   ]
  },
  {
   "cell_type": "code",
   "execution_count": null,
   "metadata": {},
   "outputs": [
    {
     "name": "stdout",
     "output_type": "stream",
     "text": [
      "One hot: (1804, 101, 24)\n",
      "Frac. coords: (1804, 3, 24)\n",
      "Wyckoff letter: (1804, 26, 24)\n",
      "Wyckoff mult: (1804, 50, 24)\n"
     ]
    },
    {
     "data": {
      "text/plain": [
       "<matplotlib.legend.Legend at 0x7faa005d8a90>"
      ]
     },
     "metadata": {},
     "output_type": "display_data"
    },
    {
     "data": {
      "image/png": "[encoded data removed]",
      "text/plain": [
       "<Figure size 2000x500 with 4 Axes>"
      ]
     },
     "metadata": {},
     "output_type": "display_data"
    }
   ],
   "source": [
    "onehot_test = x_test_plot[:,:101,:]\n",
    "frac_coords_test = x_test_plot[:,-29:-26,:]\n",
    "wyckoff_letter_test = x_test_plot[:,-26:,:]\n",
    "wyckoff_mult_test = x_test_plot[:,101:-29,:]\n",
    "print('One hot:',onehot_test.shape)\n",
    "print('Frac. coords:',frac_coords_test.shape)\n",
    "print('Wyckoff letter:',wyckoff_letter_test.shape)\n",
    "print('Wyckoff mult:',wyckoff_mult_test.shape)\n",
    "\n",
    "onehot_vae = vae_x[:,:101,:]\n",
    "frac_coords_vae = vae_x[:,-29:-26,:]\n",
    "wyckoff_letter_vae = vae_x[:,-26:,:]\n",
    "wyckoff_mult_vae = vae_x[:,101:-29,:]\n",
    "\n",
    "wyckoff_size = onehot_test.shape[1]\n",
    "structure_size = onehot_test.shape[0]\n",
    "\n",
    "# Plot VAE vs ICSD\n",
    "fig, ax = plt.subplots(1, 4, figsize=(20, 5),gridspec_kw={'wspace':0.3})\n",
    "font_size = 18\n",
    "markers = ['s','^','.']\n",
    "colors = ['r','g','b']\n",
    "alpha = 0.5\n",
    "i = 0\n",
    "\n",
    "# Element ACC\n",
    "one_hot_test_plot = onehot_test[:,:,:]\n",
    "one_hot_vae_plot = onehot_vae[:,:,:]\n",
    "one_hot_test_elem = np.argmax(one_hot_test_plot,axis=2)\n",
    "one_hot_vae_elem = np.argmax(one_hot_vae_plot,axis=2)\n",
    "# Flatten the arrays\n",
    "one_hot_test_elem = one_hot_test_elem.flatten()\n",
    "one_hot_vae_elem = one_hot_vae_elem.flatten()\n",
    "mae = np.mean(np.abs(one_hot_test_elem - one_hot_vae_elem))\n",
    "ax[0].plot(one_hot_test_elem, one_hot_vae_elem, marker=markers[i], color=colors[i], \n",
    "            linestyle='None',label=f'MAE: {mae:.2f}',alpha=alpha)\n",
    "ax[0].set_xlabel('ICSD (Periodic number)', fontsize=font_size)\n",
    "ax[0].set_ylabel('VAE (Periodic number)', fontsize=font_size)\n",
    "ax[0].set_title('Element', fontsize=font_size)\n",
    "ax[0].tick_params(axis='both', which='major', labelsize=font_size)\n",
    "ax[0].tick_params(axis='both', which='minor', labelsize=font_size)\n",
    "ax[0].legend(fontsize=font_size,loc=(-0.2,-0.5))\n",
    "\n",
    "# Fractional Coordinates\n",
    "frac_coords_test_plot = np.sqrt(np.sum(np.square(frac_coords_test[:,:,:]),axis=2))\n",
    "frac_coords_vae_plot = np.sqrt(np.sum(np.square(frac_coords_vae[:,:,:]),axis=2))\n",
    "frac_coords_test_plot = frac_coords_test_plot.flatten()\n",
    "frac_coords_vae_plot = frac_coords_vae_plot.flatten()\n",
    "mae = np.mean(np.abs(frac_coords_test_plot - frac_coords_vae_plot))\n",
    "ax[1].plot(frac_coords_test_plot, frac_coords_vae_plot, marker=markers[i], color=colors[i], \n",
    "            linestyle='None',label=f'MAE: {mae:.2f}',alpha=alpha)\n",
    "ax[1].set_xlabel('ICSD (Vector size)', fontsize=font_size)\n",
    "ax[1].set_ylabel('VAE (Vector size)', fontsize=font_size)\n",
    "ax[1].set_title('Fractional Coordinates', fontsize=font_size)\n",
    "ax[1].tick_params(axis='both', which='major', labelsize=font_size)\n",
    "ax[1].tick_params(axis='both', which='minor', labelsize=font_size)\n",
    "ax[1].legend(fontsize=font_size,loc=(-0.2,-0.5))\n",
    "\n",
    "# Wyckoff Multiplicity\n",
    "\n",
    "wyckoff_mult_test_plot = np.argmax(wyckoff_mult_test[:,:,:],axis=2)\n",
    "wyckoff_mult_vae_plot = np.argmax(wyckoff_mult_vae[:,:,:],axis=2)\n",
    "\n",
    "wyckoff_mult_test_plot = wyckoff_mult_test_plot.flatten()\n",
    "wyckoff_mult_vae_plot = wyckoff_mult_vae_plot.flatten()\n",
    "mae = np.mean(np.abs(wyckoff_mult_test_plot - wyckoff_mult_vae_plot))\n",
    "ax[2].plot(wyckoff_mult_test_plot, wyckoff_mult_vae_plot, marker=markers[i], color=colors[i],\n",
    "            linestyle='None',label=f'MAE: {mae:.2f}',alpha=alpha)\n",
    "ax[2].set_xlabel('ICSD', fontsize=font_size)\n",
    "ax[2].set_ylabel('VAE', fontsize=font_size)\n",
    "ax[2].set_title('Wyckoff Multiplicity', fontsize=font_size)\n",
    "ax[2].tick_params(axis='both', which='major', labelsize=font_size)\n",
    "ax[2].tick_params(axis='both', which='minor', labelsize=font_size)\n",
    "ax[2].legend(fontsize=font_size,loc=(-0.2,-0.5))\n",
    "\n",
    "# Wyckoff Letter\n",
    "wyckoff_letter_test_plot = wyckoff_letter_test[:,:,:]\n",
    "wyckoff_letter_vae_plot = wyckoff_letter_vae[:,:,:]\n",
    "wyckoff_letter_test_elem = np.argmax(wyckoff_letter_test_plot,axis=2)\n",
    "wyckoff_letter_vae_elem = np.argmax(wyckoff_letter_vae_plot,axis=2)\n",
    "# Flatten the arrays\n",
    "wyckoff_letter_test_elem = wyckoff_letter_test_elem.flatten()\n",
    "wyckoff_letter_vae_elem = wyckoff_letter_vae_elem.flatten()\n",
    "mae = np.mean(np.abs(wyckoff_letter_test_elem - wyckoff_letter_vae_elem))\n",
    "ax[3].plot(wyckoff_letter_test_elem, wyckoff_letter_vae_elem, marker=markers[i], color=colors[i], \n",
    "            linestyle='None',label=f'MAE: {mae:.2f}',alpha=alpha)\n",
    "ax[3].set_xlabel('ICSD (Alphabet number)', fontsize=font_size)\n",
    "ax[3].set_ylabel('VAE (Alphabet number)', fontsize=font_size)\n",
    "ax[3].set_title('Wyckoff Letter', fontsize=font_size)\n",
    "ax[3].tick_params(axis='both', which='major', labelsize=font_size)\n",
    "ax[3].tick_params(axis='both', which='minor', labelsize=font_size)\n",
    "ax[3].legend(fontsize=font_size,loc=(-0.2,-0.5))\n",
    "\n",
    "    "
   ]
  }
 ],
 "metadata": {
  "language_info": {
   "name": "python"
  }
 },
 "nbformat": 4,
 "nbformat_minor": 2
}
